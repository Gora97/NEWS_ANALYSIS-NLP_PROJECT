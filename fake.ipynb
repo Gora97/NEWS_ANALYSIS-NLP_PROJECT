{
 "cells": [
  {
   "cell_type": "code",
   "execution_count": null,
   "id": "e2240c8b",
   "metadata": {
    "ExecuteTime": {
     "end_time": "2023-07-03T15:57:11.399802Z",
     "start_time": "2023-07-03T15:56:10.280629Z"
    }
   },
   "outputs": [],
   "source": []
  },
  {
   "cell_type": "code",
   "execution_count": 18,
   "id": "4666f076",
   "metadata": {
    "ExecuteTime": {
     "end_time": "2023-07-04T17:42:25.223386Z",
     "start_time": "2023-07-04T17:42:25.199401Z"
    }
   },
   "outputs": [],
   "source": [
    "import pickle\n",
    "import streamlit as st\n",
    "import spacy\n",
    "from bs4 import BeautifulSoup\n",
    "import re\n",
    "import nltk\n",
    "import string\n",
    "from sklearn.feature_extraction.text import TfidfVectorizer\n"
   ]
  },
  {
   "cell_type": "code",
   "execution_count": 19,
   "id": "8f82a06c",
   "metadata": {
    "ExecuteTime": {
     "end_time": "2023-07-04T17:42:27.862504Z",
     "start_time": "2023-07-04T17:42:27.851511Z"
    }
   },
   "outputs": [],
   "source": [
    "def lemmatize_words(text):\n",
    "        lemma = nltk.WordNetLemmatizer()\n",
    "        words = text.split()\n",
    "        words = [lemma.lemmatize(word,pos='v') for word in words]\n",
    "        return ' '.join(words) "
   ]
  },
  {
   "cell_type": "code",
   "execution_count": 20,
   "id": "76e5c73e",
   "metadata": {
    "ExecuteTime": {
     "end_time": "2023-07-04T17:42:29.456831Z",
     "start_time": "2023-07-04T17:42:29.445840Z"
    }
   },
   "outputs": [],
   "source": [
    "def remove_html(text):\n",
    "    soup = BeautifulSoup(text, \"html.parser\")\n",
    "    return soup.get_text()\n",
    "def remove_punctuations(text):\n",
    "    return re.sub('\\[[^]]*\\]', '', text)\n",
    "def remove_characters(text):\n",
    "    return re.sub(\"[^a-zA-Z]\",\" \",text)\n"
   ]
  },
  {
   "cell_type": "code",
   "execution_count": 36,
   "id": "9229e95e",
   "metadata": {
    "ExecuteTime": {
     "end_time": "2023-07-04T18:08:01.481754Z",
     "start_time": "2023-07-04T18:08:01.466763Z"
    }
   },
   "outputs": [],
   "source": [
    "def cleaning(text):\n",
    "    text = remove_html(text)\n",
    "    text = text.lower()\n",
    "    text = re.sub('\\[.*?\\]', '', text)\n",
    "    text = re.sub('[%s]' % re.escape(string.punctuation), '', text)\n",
    "    text = re.sub('\\w*\\d\\w*', '', text)\n",
    "    text = re.sub(\"[0-9\" \"]+\",\" \",text)\n",
    "    text = re.sub('[‘’“”…]', '', text)\n",
    "    text = lemmatize_words(text)  \n",
    "    return text\n",
    "\n",
    "clean = lambda x: cleaning(x)"
   ]
  },
  {
   "cell_type": "code",
   "execution_count": 6,
   "id": "79bbbdf8",
   "metadata": {
    "ExecuteTime": {
     "end_time": "2023-07-04T13:06:43.714089Z",
     "start_time": "2023-07-04T13:06:43.706095Z"
    }
   },
   "outputs": [],
   "source": []
  },
  {
   "cell_type": "code",
   "execution_count": 21,
   "id": "5bc6161a",
   "metadata": {
    "ExecuteTime": {
     "end_time": "2023-07-04T17:42:32.429961Z",
     "start_time": "2023-07-04T17:42:32.305552Z"
    }
   },
   "outputs": [],
   "source": [
    "tf_idf_converter=pickle.load(open('C:/Users/lenvo/Desktop/DATA SCIENCE/Project/Sentiemntal/tf_idf_converter.pkl','rb'))"
   ]
  },
  {
   "cell_type": "raw",
   "id": "afb2a8b2",
   "metadata": {
    "ExecuteTime": {
     "end_time": "2023-07-04T14:23:04.131497Z",
     "start_time": "2023-07-04T14:23:04.071538Z"
    }
   },
   "source": []
  },
  {
   "cell_type": "code",
   "execution_count": 22,
   "id": "85b9edc7",
   "metadata": {
    "ExecuteTime": {
     "end_time": "2023-07-04T17:42:36.034449Z",
     "start_time": "2023-07-04T17:42:35.989476Z"
    }
   },
   "outputs": [],
   "source": [
    "model=pickle.load(open('C:/Users/lenvo/Desktop/DATA SCIENCE/Project/Sentiemntal/classifier.pkl','rb'))"
   ]
  },
  {
   "cell_type": "code",
   "execution_count": 39,
   "id": "1f7ff8c7",
   "metadata": {
    "ExecuteTime": {
     "end_time": "2023-07-04T18:08:47.023045Z",
     "start_time": "2023-07-04T18:08:47.015049Z"
    }
   },
   "outputs": [],
   "source": [
    "def news_prediction(sample):\n",
    "    Result=model.predict(tf_idf_converter.transform(sample))\n",
    "    if (Result[0]==0):\n",
    "        return'The news is FAKE'\n",
    "    else:\n",
    "        return 'The news is TRUE'\n",
    "    \n",
    "\n",
    "    \n",
    "         \n"
   ]
  },
  {
   "cell_type": "code",
   "execution_count": 40,
   "id": "bc0fd669",
   "metadata": {
    "ExecuteTime": {
     "end_time": "2023-07-04T18:08:53.072772Z",
     "start_time": "2023-07-04T18:08:53.056781Z"
    }
   },
   "outputs": [],
   "source": [
    "def main():\n",
    "    st.title('FAKE NEWS AND TRUE NEWS DETECTION')\n",
    "    st.subheader('LETS INVESTIGATE AND GET RESULT')\n",
    "    \n",
    "    if st.checkbox(\"Show text after cleaning \"):\n",
    "        st.subheader(\"cleaned text\")\n",
    "        text=st.text_area(\"Enter your text\",\"Type Here\")\n",
    "        if st.button(\"Analyze\"):\n",
    "            nlp_result=cleaning(text)\n",
    "            st.success(nlp_result)\n",
    "    if st.checkbox(\"Converted text to TFIDF VEC \"):\n",
    "        st.subheader(\"TFIDF VECTORIZER\")\n",
    "        text=st.text_area(\"Enter your text\",\"Type Here\")\n",
    "        if st.button(\"Convert\"):\n",
    "            sample=[text]\n",
    "            TFIDF_result=tf_idf_converter.transform(sample)\n",
    "            st.success(TFIDF_result)\n",
    "    if st.checkbox(\"Evaluate the NEWS \"):\n",
    "        text=st.text_area(\"Enter Any News Headline\",\"Type Here\")\n",
    "        if st.button(\"Check\"):\n",
    "            if len(text) < 1:\n",
    "                st.write(\" \")\n",
    "            else:\n",
    "                nlp_result=cleaning(text)\n",
    "                sample=[nlp_result]\n",
    "                Result=news_prediction(sample)\n",
    "                st.success(Result)\n",
    "        \n",
    "     \n",
    "    \n",
    "    \n",
    "    \n",
    "if __name__=='__main__':\n",
    "    main()"
   ]
  },
  {
   "cell_type": "code",
   "execution_count": null,
   "id": "8811a9dc",
   "metadata": {},
   "outputs": [],
   "source": []
  }
 ],
 "metadata": {
  "kernelspec": {
   "display_name": "Python 3 (ipykernel)",
   "language": "python",
   "name": "python3"
  },
  "language_info": {
   "codemirror_mode": {
    "name": "ipython",
    "version": 3
   },
   "file_extension": ".py",
   "mimetype": "text/x-python",
   "name": "python",
   "nbconvert_exporter": "python",
   "pygments_lexer": "ipython3",
   "version": "3.10.9"
  },
  "varInspector": {
   "cols": {
    "lenName": 16,
    "lenType": 16,
    "lenVar": 40
   },
   "kernels_config": {
    "python": {
     "delete_cmd_postfix": "",
     "delete_cmd_prefix": "del ",
     "library": "var_list.py",
     "varRefreshCmd": "print(var_dic_list())"
    },
    "r": {
     "delete_cmd_postfix": ") ",
     "delete_cmd_prefix": "rm(",
     "library": "var_list.r",
     "varRefreshCmd": "cat(var_dic_list()) "
    }
   },
   "types_to_exclude": [
    "module",
    "function",
    "builtin_function_or_method",
    "instance",
    "_Feature"
   ],
   "window_display": false
  }
 },
 "nbformat": 4,
 "nbformat_minor": 5
}
