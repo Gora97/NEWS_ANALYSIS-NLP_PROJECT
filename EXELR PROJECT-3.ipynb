{
 "cells": [
  {
   "cell_type": "markdown",
   "id": "e0523afd",
   "metadata": {},
   "source": [
    "# REAL OR FAKE NEWS ANALYSIS"
   ]
  },
  {
   "cell_type": "markdown",
   "id": "43829eaa",
   "metadata": {},
   "source": [
    "ABOUT THE DATASET\n",
    "\n",
    "This dataset consists of about 40000 articles consisting of fake as well as real news. Our aim is train our model so that it can correctly predict whether a given piece of news is real or fake.The fake and real news data is given in two separate datasets with each dataset consisting around 20000 articles each."
   ]
  },
  {
   "cell_type": "markdown",
   "id": "88eb945d",
   "metadata": {},
   "source": [
    "## Business Objective:"
   ]
  },
  {
   "cell_type": "markdown",
   "id": "c8b536d3",
   "metadata": {},
   "source": [
    "1.\tNeed to classify the fake and real news accurately.\n",
    "\n",
    "Architecture level analysis:\n",
    "\n",
    "1.\tData transformation/Text processing using Python\n",
    "2.\tNeed to get sentiments Analysis and n-gram analysis with some charts like histogram, Density plot, Barplot, pie-plot etc. \n",
    "3.\tDeployment through R Shiny or Flask/ Streamlit\n",
    "\n"
   ]
  },
  {
   "cell_type": "code",
   "execution_count": 1,
   "id": "eda78dae",
   "metadata": {
    "ExecuteTime": {
     "end_time": "2023-06-25T06:51:09.213749Z",
     "start_time": "2023-06-25T06:51:05.423076Z"
    }
   },
   "outputs": [],
   "source": [
    "import pandas as pd \n",
    "import numpy as np \n",
    "import matplotlib.pyplot as plt\n",
    "import itertools\n",
    "import seaborn as sns"
   ]
  },
  {
   "cell_type": "code",
   "execution_count": 2,
   "id": "b47cf6de",
   "metadata": {
    "ExecuteTime": {
     "end_time": "2023-06-25T06:51:10.944654Z",
     "start_time": "2023-06-25T06:51:10.928661Z"
    }
   },
   "outputs": [],
   "source": [
    "import warnings\n",
    "warnings.filterwarnings('ignore')"
   ]
  },
  {
   "cell_type": "code",
   "execution_count": 74,
   "id": "b14d72fe",
   "metadata": {
    "ExecuteTime": {
     "end_time": "2023-06-25T07:20:55.219656Z",
     "start_time": "2023-06-25T07:20:54.054374Z"
    }
   },
   "outputs": [],
   "source": [
    "fake=pd.read_csv('Fake.csv',encoding='latin-1')"
   ]
  },
  {
   "cell_type": "code",
   "execution_count": 75,
   "id": "f43702be",
   "metadata": {
    "ExecuteTime": {
     "end_time": "2023-06-25T07:20:56.794537Z",
     "start_time": "2023-06-25T07:20:55.757354Z"
    }
   },
   "outputs": [
    {
     "name": "stderr",
     "output_type": "stream",
     "text": [
      "Skipping line 11067: expected 4 fields, saw 8\n",
      "\n"
     ]
    }
   ],
   "source": [
    "true=pd.read_csv('True.csv',encoding='latin-1',error_bad_lines=False)"
   ]
  },
  {
   "cell_type": "code",
   "execution_count": 5,
   "id": "787c77f7",
   "metadata": {
    "ExecuteTime": {
     "end_time": "2023-06-25T06:51:19.006975Z",
     "start_time": "2023-06-25T06:51:18.947013Z"
    }
   },
   "outputs": [
    {
     "name": "stdout",
     "output_type": "stream",
     "text": [
      "<class 'pandas.core.frame.DataFrame'>\n",
      "RangeIndex: 23481 entries, 0 to 23480\n",
      "Data columns (total 4 columns):\n",
      " #   Column   Non-Null Count  Dtype \n",
      "---  ------   --------------  ----- \n",
      " 0   title    23481 non-null  object\n",
      " 1   text     23481 non-null  object\n",
      " 2   subject  23481 non-null  object\n",
      " 3   date     23481 non-null  object\n",
      "dtypes: object(4)\n",
      "memory usage: 733.9+ KB\n"
     ]
    }
   ],
   "source": [
    "fake.info()"
   ]
  },
  {
   "cell_type": "code",
   "execution_count": 6,
   "id": "6d71d141",
   "metadata": {
    "ExecuteTime": {
     "end_time": "2023-06-25T06:51:21.166760Z",
     "start_time": "2023-06-25T06:51:21.111795Z"
    }
   },
   "outputs": [
    {
     "name": "stdout",
     "output_type": "stream",
     "text": [
      "<class 'pandas.core.frame.DataFrame'>\n",
      "RangeIndex: 21416 entries, 0 to 21415\n",
      "Data columns (total 4 columns):\n",
      " #   Column   Non-Null Count  Dtype \n",
      "---  ------   --------------  ----- \n",
      " 0   title    21416 non-null  object\n",
      " 1   text     21416 non-null  object\n",
      " 2   subject  21416 non-null  object\n",
      " 3   date     21416 non-null  object\n",
      "dtypes: object(4)\n",
      "memory usage: 669.4+ KB\n"
     ]
    }
   ],
   "source": [
    "true.info()"
   ]
  },
  {
   "cell_type": "markdown",
   "id": "593e0341",
   "metadata": {},
   "source": [
    "#### so we can see that all the data in our dataset is catagorical\n",
    "NOTE: You can see that all of the datetime related columns are not currently in datetime format. We will need to convert these later."
   ]
  },
  {
   "cell_type": "code",
   "execution_count": 7,
   "id": "a35ea84c",
   "metadata": {
    "ExecuteTime": {
     "end_time": "2023-06-25T06:51:28.300111Z",
     "start_time": "2023-06-25T06:51:28.273125Z"
    }
   },
   "outputs": [
    {
     "data": {
      "text/plain": [
       "(23481, 4)"
      ]
     },
     "execution_count": 7,
     "metadata": {},
     "output_type": "execute_result"
    }
   ],
   "source": [
    "fake.shape"
   ]
  },
  {
   "cell_type": "code",
   "execution_count": 8,
   "id": "d9af7a5a",
   "metadata": {
    "ExecuteTime": {
     "end_time": "2023-06-25T06:51:30.292449Z",
     "start_time": "2023-06-25T06:51:30.282454Z"
    }
   },
   "outputs": [
    {
     "data": {
      "text/plain": [
       "(21416, 4)"
      ]
     },
     "execution_count": 8,
     "metadata": {},
     "output_type": "execute_result"
    }
   ],
   "source": [
    "true.shape"
   ]
  },
  {
   "cell_type": "markdown",
   "id": "17a5c9fa",
   "metadata": {},
   "source": [
    "fake dataset have 23481 ROWS and 4 COLUMNS\n",
    "\n",
    "true dataset have 21416 ROWS and 4 COLUMNS"
   ]
  },
  {
   "cell_type": "markdown",
   "id": "25bf1326",
   "metadata": {},
   "source": [
    "# Checking for Missing Data "
   ]
  },
  {
   "cell_type": "code",
   "execution_count": 9,
   "id": "26108ffa",
   "metadata": {
    "ExecuteTime": {
     "end_time": "2023-06-25T06:51:33.211425Z",
     "start_time": "2023-06-25T06:51:33.193436Z"
    }
   },
   "outputs": [],
   "source": [
    "def missing_data(df):\n",
    "    \"\"\"\n",
    "    Objective\n",
    "    ----------\n",
    "    it shows the missing data in each column with \n",
    "    total missing values, percentage of missing value and\n",
    "    its data type in descending order.\n",
    "    \n",
    "    parameters\n",
    "    ----------\n",
    "    df: pandas dataframe\n",
    "        input data frame \n",
    "    \n",
    "    returns\n",
    "    ----------\n",
    "    missing_data: output data frame(pandas dataframe)\n",
    "    \n",
    "    \"\"\"\n",
    "    \n",
    "    total = df.isna().sum().sort_values(ascending=False)\n",
    "    percent = round((df.isnull().sum()/df.isna().count()  * 100).sort_values(ascending=False))\n",
    "    data_type = df.dtypes\n",
    "    missing_data = pd.concat([total,percent,data_type],axis=1,keys=['Total','Percent','Data_Type']).sort_values(\"Total\", axis = 0, ascending = False)\n",
    "    \n",
    "    return missing_data"
   ]
  },
  {
   "cell_type": "code",
   "execution_count": 10,
   "id": "9264e3db",
   "metadata": {
    "ExecuteTime": {
     "end_time": "2023-06-25T06:51:35.429183Z",
     "start_time": "2023-06-25T06:51:35.310255Z"
    }
   },
   "outputs": [
    {
     "data": {
      "text/html": [
       "<div>\n",
       "<style scoped>\n",
       "    .dataframe tbody tr th:only-of-type {\n",
       "        vertical-align: middle;\n",
       "    }\n",
       "\n",
       "    .dataframe tbody tr th {\n",
       "        vertical-align: top;\n",
       "    }\n",
       "\n",
       "    .dataframe thead th {\n",
       "        text-align: right;\n",
       "    }\n",
       "</style>\n",
       "<table border=\"1\" class=\"dataframe\">\n",
       "  <thead>\n",
       "    <tr style=\"text-align: right;\">\n",
       "      <th></th>\n",
       "      <th>Total</th>\n",
       "      <th>Percent</th>\n",
       "      <th>Data_Type</th>\n",
       "    </tr>\n",
       "  </thead>\n",
       "  <tbody>\n",
       "    <tr>\n",
       "      <th>title</th>\n",
       "      <td>0</td>\n",
       "      <td>0.0</td>\n",
       "      <td>object</td>\n",
       "    </tr>\n",
       "    <tr>\n",
       "      <th>text</th>\n",
       "      <td>0</td>\n",
       "      <td>0.0</td>\n",
       "      <td>object</td>\n",
       "    </tr>\n",
       "    <tr>\n",
       "      <th>subject</th>\n",
       "      <td>0</td>\n",
       "      <td>0.0</td>\n",
       "      <td>object</td>\n",
       "    </tr>\n",
       "    <tr>\n",
       "      <th>date</th>\n",
       "      <td>0</td>\n",
       "      <td>0.0</td>\n",
       "      <td>object</td>\n",
       "    </tr>\n",
       "  </tbody>\n",
       "</table>\n",
       "</div>"
      ],
      "text/plain": [
       "         Total  Percent Data_Type\n",
       "title        0      0.0    object\n",
       "text         0      0.0    object\n",
       "subject      0      0.0    object\n",
       "date         0      0.0    object"
      ]
     },
     "execution_count": 10,
     "metadata": {},
     "output_type": "execute_result"
    }
   ],
   "source": [
    "missing_data(true)"
   ]
  },
  {
   "cell_type": "code",
   "execution_count": 11,
   "id": "f6b88140",
   "metadata": {
    "ExecuteTime": {
     "end_time": "2023-06-25T06:51:37.430021Z",
     "start_time": "2023-06-25T06:51:37.270120Z"
    }
   },
   "outputs": [
    {
     "data": {
      "text/html": [
       "<div>\n",
       "<style scoped>\n",
       "    .dataframe tbody tr th:only-of-type {\n",
       "        vertical-align: middle;\n",
       "    }\n",
       "\n",
       "    .dataframe tbody tr th {\n",
       "        vertical-align: top;\n",
       "    }\n",
       "\n",
       "    .dataframe thead th {\n",
       "        text-align: right;\n",
       "    }\n",
       "</style>\n",
       "<table border=\"1\" class=\"dataframe\">\n",
       "  <thead>\n",
       "    <tr style=\"text-align: right;\">\n",
       "      <th></th>\n",
       "      <th>Total</th>\n",
       "      <th>Percent</th>\n",
       "      <th>Data_Type</th>\n",
       "    </tr>\n",
       "  </thead>\n",
       "  <tbody>\n",
       "    <tr>\n",
       "      <th>title</th>\n",
       "      <td>0</td>\n",
       "      <td>0.0</td>\n",
       "      <td>object</td>\n",
       "    </tr>\n",
       "    <tr>\n",
       "      <th>text</th>\n",
       "      <td>0</td>\n",
       "      <td>0.0</td>\n",
       "      <td>object</td>\n",
       "    </tr>\n",
       "    <tr>\n",
       "      <th>subject</th>\n",
       "      <td>0</td>\n",
       "      <td>0.0</td>\n",
       "      <td>object</td>\n",
       "    </tr>\n",
       "    <tr>\n",
       "      <th>date</th>\n",
       "      <td>0</td>\n",
       "      <td>0.0</td>\n",
       "      <td>object</td>\n",
       "    </tr>\n",
       "  </tbody>\n",
       "</table>\n",
       "</div>"
      ],
      "text/plain": [
       "         Total  Percent Data_Type\n",
       "title        0      0.0    object\n",
       "text         0      0.0    object\n",
       "subject      0      0.0    object\n",
       "date         0      0.0    object"
      ]
     },
     "execution_count": 11,
     "metadata": {},
     "output_type": "execute_result"
    }
   ],
   "source": [
    "missing_data(fake)"
   ]
  },
  {
   "cell_type": "markdown",
   "id": "d3e587ad",
   "metadata": {},
   "source": [
    "we can clearly conclude that we don't have any missing data in our dataset .... GOOD to GO!!"
   ]
  },
  {
   "cell_type": "markdown",
   "id": "8303df3f",
   "metadata": {},
   "source": [
    "# Lets Check For Duplicates in our Dataset "
   ]
  },
  {
   "cell_type": "code",
   "execution_count": 76,
   "id": "e5d1f412",
   "metadata": {
    "ExecuteTime": {
     "end_time": "2023-06-25T07:21:09.603339Z",
     "start_time": "2023-06-25T07:21:09.590347Z"
    }
   },
   "outputs": [],
   "source": [
    "def drop_duplicates(df):\n",
    "    \"\"\"\n",
    "    Objective\n",
    "    ----------\n",
    "    Drop duplicates rows in data frame except for the first occurrence.\n",
    "    \n",
    "    parameters\n",
    "    ----------\n",
    "    df: pandas dataframe\n",
    "        input data frame \n",
    "        \n",
    "    returns\n",
    "    ----------\n",
    "    dataframe with all unique rows\n",
    "    \"\"\"\n",
    "        \n",
    "    try:\n",
    "        dr = df.duplicated().value_counts()\n",
    "        print(\"[INFO] Dropping {} duplicates records...\".format(dr))\n",
    "        f_df = df.drop_duplicates(keep=\"first\")\n",
    "        \n",
    "        return f_df\n",
    "    except KeyError:\n",
    "        print(\"[INFO] No duplicates records found\")\n",
    "        return df"
   ]
  },
  {
   "cell_type": "code",
   "execution_count": 77,
   "id": "976cfe1b",
   "metadata": {
    "ExecuteTime": {
     "end_time": "2023-06-25T07:21:11.907840Z",
     "start_time": "2023-06-25T07:21:11.348344Z"
    }
   },
   "outputs": [
    {
     "name": "stdout",
     "output_type": "stream",
     "text": [
      "[INFO] Dropping False    21210\n",
      "True       206\n",
      "dtype: int64 duplicates records...\n"
     ]
    }
   ],
   "source": [
    "true=drop_duplicates(true)"
   ]
  },
  {
   "cell_type": "code",
   "execution_count": 78,
   "id": "481d22a1",
   "metadata": {
    "ExecuteTime": {
     "end_time": "2023-06-25T07:21:13.995883Z",
     "start_time": "2023-06-25T07:21:13.401225Z"
    }
   },
   "outputs": [
    {
     "name": "stdout",
     "output_type": "stream",
     "text": [
      "[INFO] Dropping False    23478\n",
      "True         3\n",
      "dtype: int64 duplicates records...\n"
     ]
    }
   ],
   "source": [
    "fake=drop_duplicates(fake)"
   ]
  },
  {
   "cell_type": "code",
   "execution_count": 15,
   "id": "32b6822e",
   "metadata": {
    "ExecuteTime": {
     "end_time": "2023-06-24T15:07:33.200618Z",
     "start_time": "2023-06-24T15:07:33.188624Z"
    }
   },
   "outputs": [
    {
     "data": {
      "text/plain": [
       "(21210, 4)"
      ]
     },
     "execution_count": 15,
     "metadata": {},
     "output_type": "execute_result"
    }
   ],
   "source": [
    "true.shape"
   ]
  },
  {
   "cell_type": "code",
   "execution_count": 16,
   "id": "dd3d96ab",
   "metadata": {
    "ExecuteTime": {
     "end_time": "2023-06-24T15:07:34.819318Z",
     "start_time": "2023-06-24T15:07:34.809324Z"
    }
   },
   "outputs": [
    {
     "data": {
      "text/plain": [
       "(23478, 4)"
      ]
     },
     "execution_count": 16,
     "metadata": {},
     "output_type": "execute_result"
    }
   ],
   "source": [
    "fake.shape"
   ]
  },
  {
   "cell_type": "code",
   "execution_count": null,
   "id": "50f4367e",
   "metadata": {},
   "outputs": [],
   "source": []
  },
  {
   "cell_type": "code",
   "execution_count": null,
   "id": "ab74134e",
   "metadata": {},
   "outputs": [],
   "source": [
    "#Previously we had :                                                   After Removing Duplicates we have :\n",
    "\n",
    "fake dataset have 23481 ROWS and 4 COLUMNS                            fake dataset have 23478 ROWS and 4 COLUMNS\n",
    "\n",
    "true dataset have 21416 ROWS and 4 COLUMNS                            true dataset have 21210 ROWS and 4 COLUMNS \n"
   ]
  },
  {
   "cell_type": "markdown",
   "id": "a82a986a",
   "metadata": {},
   "source": [
    "### Statistics View\n",
    "Now let's look at some statistics about the datasets"
   ]
  },
  {
   "cell_type": "code",
   "execution_count": 17,
   "id": "fe58a96f",
   "metadata": {
    "ExecuteTime": {
     "end_time": "2023-06-24T15:07:37.686475Z",
     "start_time": "2023-06-24T15:07:37.527570Z"
    }
   },
   "outputs": [
    {
     "data": {
      "text/html": [
       "<div>\n",
       "<style scoped>\n",
       "    .dataframe tbody tr th:only-of-type {\n",
       "        vertical-align: middle;\n",
       "    }\n",
       "\n",
       "    .dataframe tbody tr th {\n",
       "        vertical-align: top;\n",
       "    }\n",
       "\n",
       "    .dataframe thead th {\n",
       "        text-align: right;\n",
       "    }\n",
       "</style>\n",
       "<table border=\"1\" class=\"dataframe\">\n",
       "  <thead>\n",
       "    <tr style=\"text-align: right;\">\n",
       "      <th></th>\n",
       "      <th>title</th>\n",
       "      <th>text</th>\n",
       "      <th>subject</th>\n",
       "      <th>date</th>\n",
       "    </tr>\n",
       "  </thead>\n",
       "  <tbody>\n",
       "    <tr>\n",
       "      <th>count</th>\n",
       "      <td>23478</td>\n",
       "      <td>23478</td>\n",
       "      <td>23478</td>\n",
       "      <td>23478</td>\n",
       "    </tr>\n",
       "    <tr>\n",
       "      <th>unique</th>\n",
       "      <td>17903</td>\n",
       "      <td>17455</td>\n",
       "      <td>6</td>\n",
       "      <td>1681</td>\n",
       "    </tr>\n",
       "    <tr>\n",
       "      <th>top</th>\n",
       "      <td>MEDIA IGNORES Time That Bill Clinton FIRED His...</td>\n",
       "      <td></td>\n",
       "      <td>News</td>\n",
       "      <td>May 10, 2017</td>\n",
       "    </tr>\n",
       "    <tr>\n",
       "      <th>freq</th>\n",
       "      <td>6</td>\n",
       "      <td>626</td>\n",
       "      <td>9050</td>\n",
       "      <td>46</td>\n",
       "    </tr>\n",
       "  </tbody>\n",
       "</table>\n",
       "</div>"
      ],
      "text/plain": [
       "                                                    title   text subject  \\\n",
       "count                                               23478  23478   23478   \n",
       "unique                                              17903  17455       6   \n",
       "top     MEDIA IGNORES Time That Bill Clinton FIRED His...           News   \n",
       "freq                                                    6    626    9050   \n",
       "\n",
       "                date  \n",
       "count          23478  \n",
       "unique          1681  \n",
       "top     May 10, 2017  \n",
       "freq              46  "
      ]
     },
     "execution_count": 17,
     "metadata": {},
     "output_type": "execute_result"
    }
   ],
   "source": [
    "fake.describe()"
   ]
  },
  {
   "cell_type": "code",
   "execution_count": 18,
   "id": "75f4c0dc",
   "metadata": {
    "ExecuteTime": {
     "end_time": "2023-06-24T15:07:39.959141Z",
     "start_time": "2023-06-24T15:07:39.785358Z"
    }
   },
   "outputs": [
    {
     "data": {
      "text/html": [
       "<div>\n",
       "<style scoped>\n",
       "    .dataframe tbody tr th:only-of-type {\n",
       "        vertical-align: middle;\n",
       "    }\n",
       "\n",
       "    .dataframe tbody tr th {\n",
       "        vertical-align: top;\n",
       "    }\n",
       "\n",
       "    .dataframe thead th {\n",
       "        text-align: right;\n",
       "    }\n",
       "</style>\n",
       "<table border=\"1\" class=\"dataframe\">\n",
       "  <thead>\n",
       "    <tr style=\"text-align: right;\">\n",
       "      <th></th>\n",
       "      <th>title</th>\n",
       "      <th>text</th>\n",
       "      <th>subject</th>\n",
       "      <th>date</th>\n",
       "    </tr>\n",
       "  </thead>\n",
       "  <tbody>\n",
       "    <tr>\n",
       "      <th>count</th>\n",
       "      <td>21210</td>\n",
       "      <td>21210</td>\n",
       "      <td>21210</td>\n",
       "      <td>21210</td>\n",
       "    </tr>\n",
       "    <tr>\n",
       "      <th>unique</th>\n",
       "      <td>20825</td>\n",
       "      <td>21191</td>\n",
       "      <td>2</td>\n",
       "      <td>716</td>\n",
       "    </tr>\n",
       "    <tr>\n",
       "      <th>top</th>\n",
       "      <td>Factbox: Trump fills top jobs for his administ...</td>\n",
       "      <td>CHARLESTON, S.C. (Reuters) - Long viewed by th...</td>\n",
       "      <td>politicsNews</td>\n",
       "      <td>December 6, 2017</td>\n",
       "    </tr>\n",
       "    <tr>\n",
       "      <th>freq</th>\n",
       "      <td>14</td>\n",
       "      <td>2</td>\n",
       "      <td>11219</td>\n",
       "      <td>166</td>\n",
       "    </tr>\n",
       "  </tbody>\n",
       "</table>\n",
       "</div>"
      ],
      "text/plain": [
       "                                                    title  \\\n",
       "count                                               21210   \n",
       "unique                                              20825   \n",
       "top     Factbox: Trump fills top jobs for his administ...   \n",
       "freq                                                   14   \n",
       "\n",
       "                                                     text       subject  \\\n",
       "count                                               21210         21210   \n",
       "unique                                              21191             2   \n",
       "top     CHARLESTON, S.C. (Reuters) - Long viewed by th...  politicsNews   \n",
       "freq                                                    2         11219   \n",
       "\n",
       "                     date  \n",
       "count               21210  \n",
       "unique                716  \n",
       "top     December 6, 2017   \n",
       "freq                  166  "
      ]
     },
     "execution_count": 18,
     "metadata": {},
     "output_type": "execute_result"
    }
   ],
   "source": [
    "true.describe()"
   ]
  },
  {
   "cell_type": "markdown",
   "id": "de209b2d",
   "metadata": {},
   "source": [
    "# Data visualization\n",
    "Now let's dive a bit deeper into the dataframes"
   ]
  },
  {
   "cell_type": "code",
   "execution_count": 19,
   "id": "4fb3c9c8",
   "metadata": {
    "ExecuteTime": {
     "end_time": "2023-06-17T11:47:06.750468Z",
     "start_time": "2023-06-17T11:47:06.215943Z"
    }
   },
   "outputs": [
    {
     "data": {
      "text/plain": [
       "<Axes: xlabel='subject', ylabel='count'>"
      ]
     },
     "execution_count": 19,
     "metadata": {},
     "output_type": "execute_result"
    },
    {
     "data": {
      "image/png": "[encoded data removed]",
      "text/plain": [
       "<Figure size 640x480 with 1 Axes>"
      ]
     },
     "metadata": {},
     "output_type": "display_data"
    }
   ],
   "source": [
    "fig = plt.figure()\n",
    "sns.set(rc={'figure.figsize':(3.7,8.27)})\n",
    "ax1 = fig.add_subplot(2,1,1) \n",
    "sns.countplot(data = true, x = 'subject', ax = ax1)"
   ]
  },
  {
   "cell_type": "code",
   "execution_count": 21,
   "id": "5ed1d136",
   "metadata": {
    "ExecuteTime": {
     "end_time": "2023-06-17T11:47:18.900047Z",
     "start_time": "2023-06-17T11:47:18.218818Z"
    }
   },
   "outputs": [
    {
     "data": {
      "text/plain": [
       "<Axes: xlabel='subject', ylabel='count'>"
      ]
     },
     "execution_count": 21,
     "metadata": {},
     "output_type": "execute_result"
    },
    {
     "data": {
      "image/png": "[encoded data removed]",
      "text/plain": [
       "<Figure size 1700x1827 with 1 Axes>"
      ]
     },
     "metadata": {},
     "output_type": "display_data"
    }
   ],
   "source": [
    "fig = plt.figure()\n",
    "sns.set(rc={'figure.figsize':(17,18.27)})\n",
    "ax1 = fig.add_subplot(1,1,1) \n",
    "sns.countplot(data = fake, x = 'subject', ax = ax1)"
   ]
  },
  {
   "cell_type": "markdown",
   "id": "4f09d02f",
   "metadata": {},
   "source": [
    "After looking into the visualtion of different subject of fake news and comparing it with subjects of true news we can figure out the following things-\n",
    "\n",
    "1)we have only 2 subjects in true ('politicsNews', 'worldnews') while fake have 6 subjects ('News', 'politics', 'Government News', 'left-news', 'US_News', 'Middle-east) .\n",
    "\n",
    "2) since we are dealing with supervised machine learing model our ulimate goal should always be to make our model as simple as possible\n",
    "\n",
    "with this goal we can apply some feature engineering into our fake dataset where we can merge 'News', 'left-news', 'US_News', 'Middle-east as 'worldnews' and merge 'politics', 'Government News'as 'politicsNews'\n",
    "\n"
   ]
  },
  {
   "cell_type": "markdown",
   "id": "968e5cab",
   "metadata": {},
   "source": [
    "# Feature_Engineering"
   ]
  },
  {
   "cell_type": "code",
   "execution_count": 79,
   "id": "3166f149",
   "metadata": {
    "ExecuteTime": {
     "end_time": "2023-06-25T07:21:24.733647Z",
     "start_time": "2023-06-25T07:21:24.719655Z"
    }
   },
   "outputs": [
    {
     "data": {
      "text/plain": [
       "array(['politicsNews', 'worldnews'], dtype=object)"
      ]
     },
     "execution_count": 79,
     "metadata": {},
     "output_type": "execute_result"
    }
   ],
   "source": [
    "true.subject.unique()"
   ]
  },
  {
   "cell_type": "code",
   "execution_count": 80,
   "id": "8247fce6",
   "metadata": {
    "ExecuteTime": {
     "end_time": "2023-06-25T07:21:26.267514Z",
     "start_time": "2023-06-25T07:21:26.252522Z"
    }
   },
   "outputs": [
    {
     "data": {
      "text/plain": [
       "array(['News', 'politics', 'Government News', 'left-news', 'US_News',\n",
       "       'Middle-east'], dtype=object)"
      ]
     },
     "execution_count": 80,
     "metadata": {},
     "output_type": "execute_result"
    }
   ],
   "source": [
    "fake.subject.unique()"
   ]
  },
  {
   "cell_type": "code",
   "execution_count": 81,
   "id": "b18ec9f5",
   "metadata": {
    "ExecuteTime": {
     "end_time": "2023-06-25T07:21:27.866916Z",
     "start_time": "2023-06-25T07:21:27.820945Z"
    }
   },
   "outputs": [],
   "source": [
    "fake['subject'] = fake['subject'].replace(['News'], 'worldnews')\n",
    "fake['subject'] = fake['subject'].replace(['left-news'], 'worldnews')\n",
    "fake['subject'] = fake['subject'].replace(['US_News'], 'worldnews')\n",
    "fake['subject'] = fake['subject'].replace(['Middle-east'], 'worldnews')\n",
    "fake['subject'] = fake['subject'].replace(['politics'], 'politicsNews')\n",
    "fake['subject'] = fake['subject'].replace(['Government News'], 'politicsNews')"
   ]
  },
  {
   "cell_type": "code",
   "execution_count": 83,
   "id": "94bc101c",
   "metadata": {
    "ExecuteTime": {
     "end_time": "2023-06-25T07:21:34.119868Z",
     "start_time": "2023-06-25T07:21:34.095884Z"
    }
   },
   "outputs": [
    {
     "data": {
      "text/plain": [
       "array(['worldnews', 'politicsNews'], dtype=object)"
      ]
     },
     "execution_count": 83,
     "metadata": {},
     "output_type": "execute_result"
    }
   ],
   "source": [
    "fake.subject.unique()"
   ]
  },
  {
   "cell_type": "code",
   "execution_count": 26,
   "id": "8fd3196f",
   "metadata": {
    "ExecuteTime": {
     "end_time": "2023-06-24T15:08:25.185586Z",
     "start_time": "2023-06-24T15:08:24.126235Z"
    }
   },
   "outputs": [
    {
     "data": {
      "text/plain": [
       "[Text(0.5, 0, 'True_Subject'), Text(0, 0.5, 'count')]"
      ]
     },
     "execution_count": 26,
     "metadata": {},
     "output_type": "execute_result"
    },
    {
     "data": {
      "image/png": "[encoded data removed]",
      "text/plain": [
       "<Figure size 1100x800 with 2 Axes>"
      ]
     },
     "metadata": {},
     "output_type": "display_data"
    }
   ],
   "source": [
    "fig = plt.figure()\n",
    "sns.set(rc={'figure.figsize':(11,8)})\n",
    "ax1 = fig.add_subplot(1,2,1) \n",
    "ax2 = fig.add_subplot(1,2,2)\n",
    "sns.countplot(data = fake, x = 'subject', ax = ax1,).set(xlabel='fake_Subject', ylabel='count')\n",
    "sns.countplot(data = true, x = 'subject', ax = ax2).set(xlabel='True_Subject', ylabel='count')\n"
   ]
  },
  {
   "cell_type": "markdown",
   "id": "40965199",
   "metadata": {},
   "source": [
    "# Converting the date feature into months and years"
   ]
  },
  {
   "cell_type": "code",
   "execution_count": 84,
   "id": "1a1ec372",
   "metadata": {
    "ExecuteTime": {
     "end_time": "2023-06-25T07:21:44.437395Z",
     "start_time": "2023-06-25T07:21:44.160537Z"
    }
   },
   "outputs": [],
   "source": [
    "from datetime import datetime\n",
    "import calendar\n",
    "true['date'] = pd.to_datetime(true['date'], errors='coerce')\n",
    "num = true['date'].dt.month"
   ]
  },
  {
   "cell_type": "code",
   "execution_count": 85,
   "id": "e31dccaa",
   "metadata": {
    "ExecuteTime": {
     "end_time": "2023-06-25T07:21:46.382813Z",
     "start_time": "2023-06-25T07:21:45.844580Z"
    }
   },
   "outputs": [],
   "source": [
    "fake['date'] = pd.to_datetime(fake['date'], errors='coerce')\n",
    "num = fake['date'].dt.month"
   ]
  },
  {
   "cell_type": "code",
   "execution_count": 86,
   "id": "bf6d2e49",
   "metadata": {
    "ExecuteTime": {
     "end_time": "2023-06-25T07:21:48.323512Z",
     "start_time": "2023-06-25T07:21:48.267547Z"
    }
   },
   "outputs": [
    {
     "name": "stdout",
     "output_type": "stream",
     "text": [
      "<class 'pandas.core.frame.DataFrame'>\n",
      "Int64Index: 21210 entries, 0 to 21415\n",
      "Data columns (total 4 columns):\n",
      " #   Column   Non-Null Count  Dtype         \n",
      "---  ------   --------------  -----         \n",
      " 0   title    21210 non-null  object        \n",
      " 1   text     21210 non-null  object        \n",
      " 2   subject  21210 non-null  object        \n",
      " 3   date     21210 non-null  datetime64[ns]\n",
      "dtypes: datetime64[ns](1), object(3)\n",
      "memory usage: 828.5+ KB\n"
     ]
    }
   ],
   "source": [
    "true.info()"
   ]
  },
  {
   "cell_type": "code",
   "execution_count": 87,
   "id": "b6e72b4f",
   "metadata": {
    "ExecuteTime": {
     "end_time": "2023-06-25T07:21:50.261649Z",
     "start_time": "2023-06-25T07:21:50.209683Z"
    }
   },
   "outputs": [
    {
     "name": "stdout",
     "output_type": "stream",
     "text": [
      "<class 'pandas.core.frame.DataFrame'>\n",
      "Int64Index: 23478 entries, 0 to 23480\n",
      "Data columns (total 4 columns):\n",
      " #   Column   Non-Null Count  Dtype         \n",
      "---  ------   --------------  -----         \n",
      " 0   title    23478 non-null  object        \n",
      " 1   text     23478 non-null  object        \n",
      " 2   subject  23478 non-null  object        \n",
      " 3   date     23468 non-null  datetime64[ns]\n",
      "dtypes: datetime64[ns](1), object(3)\n",
      "memory usage: 917.1+ KB\n"
     ]
    }
   ],
   "source": [
    "fake.info()"
   ]
  },
  {
   "cell_type": "code",
   "execution_count": 89,
   "id": "b63075e9",
   "metadata": {
    "ExecuteTime": {
     "end_time": "2023-06-25T07:22:03.567383Z",
     "start_time": "2023-06-25T07:22:03.416690Z"
    }
   },
   "outputs": [],
   "source": [
    "fake['Month'] = fake.date.apply(lambda x:x.month)\n",
    "fake['Year'] = fake.date.apply(lambda x:x.year)"
   ]
  },
  {
   "cell_type": "code",
   "execution_count": 90,
   "id": "bd7a85fa",
   "metadata": {
    "ExecuteTime": {
     "end_time": "2023-06-25T07:22:05.742211Z",
     "start_time": "2023-06-25T07:22:05.586307Z"
    }
   },
   "outputs": [],
   "source": [
    "true['Month'] = true.date.apply(lambda x:x.month)\n",
    "true['Year'] = true.date.apply(lambda x:x.year)"
   ]
  },
  {
   "cell_type": "code",
   "execution_count": 91,
   "id": "d967d77a",
   "metadata": {
    "ExecuteTime": {
     "end_time": "2023-06-25T07:22:08.392099Z",
     "start_time": "2023-06-25T07:22:08.360117Z"
    }
   },
   "outputs": [
    {
     "data": {
      "text/html": [
       "<div>\n",
       "<style scoped>\n",
       "    .dataframe tbody tr th:only-of-type {\n",
       "        vertical-align: middle;\n",
       "    }\n",
       "\n",
       "    .dataframe tbody tr th {\n",
       "        vertical-align: top;\n",
       "    }\n",
       "\n",
       "    .dataframe thead th {\n",
       "        text-align: right;\n",
       "    }\n",
       "</style>\n",
       "<table border=\"1\" class=\"dataframe\">\n",
       "  <thead>\n",
       "    <tr style=\"text-align: right;\">\n",
       "      <th></th>\n",
       "      <th>title</th>\n",
       "      <th>text</th>\n",
       "      <th>subject</th>\n",
       "      <th>date</th>\n",
       "      <th>Month</th>\n",
       "      <th>Year</th>\n",
       "    </tr>\n",
       "  </thead>\n",
       "  <tbody>\n",
       "    <tr>\n",
       "      <th>0</th>\n",
       "      <td>Donald Trump Sends Out Embarrassing New Year\u0019...</td>\n",
       "      <td>Donald Trump just couldn t wish all Americans ...</td>\n",
       "      <td>worldnews</td>\n",
       "      <td>2017-12-31</td>\n",
       "      <td>12.0</td>\n",
       "      <td>2017.0</td>\n",
       "    </tr>\n",
       "    <tr>\n",
       "      <th>1</th>\n",
       "      <td>Drunk Bragging Trump Staffer Started Russian ...</td>\n",
       "      <td>House Intelligence Committee Chairman Devin Nu...</td>\n",
       "      <td>worldnews</td>\n",
       "      <td>2017-12-31</td>\n",
       "      <td>12.0</td>\n",
       "      <td>2017.0</td>\n",
       "    </tr>\n",
       "    <tr>\n",
       "      <th>2</th>\n",
       "      <td>Sheriff David Clarke Becomes An Internet Joke...</td>\n",
       "      <td>On Friday, it was revealed that former Milwauk...</td>\n",
       "      <td>worldnews</td>\n",
       "      <td>2017-12-30</td>\n",
       "      <td>12.0</td>\n",
       "      <td>2017.0</td>\n",
       "    </tr>\n",
       "    <tr>\n",
       "      <th>3</th>\n",
       "      <td>Trump Is So Obsessed He Even Has Obama\u0019s Name...</td>\n",
       "      <td>On Christmas day, Donald Trump announced that ...</td>\n",
       "      <td>worldnews</td>\n",
       "      <td>2017-12-29</td>\n",
       "      <td>12.0</td>\n",
       "      <td>2017.0</td>\n",
       "    </tr>\n",
       "    <tr>\n",
       "      <th>4</th>\n",
       "      <td>Pope Francis Just Called Out Donald Trump Dur...</td>\n",
       "      <td>Pope Francis used his annual Christmas Day mes...</td>\n",
       "      <td>worldnews</td>\n",
       "      <td>2017-12-25</td>\n",
       "      <td>12.0</td>\n",
       "      <td>2017.0</td>\n",
       "    </tr>\n",
       "  </tbody>\n",
       "</table>\n",
       "</div>"
      ],
      "text/plain": [
       "                                               title  \\\n",
       "0   Donald Trump Sends Out Embarrassing New Year\u0019...   \n",
       "1   Drunk Bragging Trump Staffer Started Russian ...   \n",
       "2   Sheriff David Clarke Becomes An Internet Joke...   \n",
       "3   Trump Is So Obsessed He Even Has Obama\u0019s Name...   \n",
       "4   Pope Francis Just Called Out Donald Trump Dur...   \n",
       "\n",
       "                                                text    subject       date  \\\n",
       "0  Donald Trump just couldn t wish all Americans ...  worldnews 2017-12-31   \n",
       "1  House Intelligence Committee Chairman Devin Nu...  worldnews 2017-12-31   \n",
       "2  On Friday, it was revealed that former Milwauk...  worldnews 2017-12-30   \n",
       "3  On Christmas day, Donald Trump announced that ...  worldnews 2017-12-29   \n",
       "4  Pope Francis used his annual Christmas Day mes...  worldnews 2017-12-25   \n",
       "\n",
       "   Month    Year  \n",
       "0   12.0  2017.0  \n",
       "1   12.0  2017.0  \n",
       "2   12.0  2017.0  \n",
       "3   12.0  2017.0  \n",
       "4   12.0  2017.0  "
      ]
     },
     "execution_count": 91,
     "metadata": {},
     "output_type": "execute_result"
    }
   ],
   "source": [
    "fake.head()"
   ]
  },
  {
   "cell_type": "code",
   "execution_count": 92,
   "id": "1009f392",
   "metadata": {
    "ExecuteTime": {
     "end_time": "2023-06-25T07:22:11.481002Z",
     "start_time": "2023-06-25T07:22:11.465013Z"
    }
   },
   "outputs": [],
   "source": [
    "del fake['date']\n",
    "del true['date']"
   ]
  },
  {
   "cell_type": "code",
   "execution_count": 95,
   "id": "9a07ebc7",
   "metadata": {
    "ExecuteTime": {
     "end_time": "2023-06-25T07:22:27.614895Z",
     "start_time": "2023-06-25T07:22:27.587909Z"
    }
   },
   "outputs": [
    {
     "data": {
      "text/html": [
       "<div>\n",
       "<style scoped>\n",
       "    .dataframe tbody tr th:only-of-type {\n",
       "        vertical-align: middle;\n",
       "    }\n",
       "\n",
       "    .dataframe tbody tr th {\n",
       "        vertical-align: top;\n",
       "    }\n",
       "\n",
       "    .dataframe thead th {\n",
       "        text-align: right;\n",
       "    }\n",
       "</style>\n",
       "<table border=\"1\" class=\"dataframe\">\n",
       "  <thead>\n",
       "    <tr style=\"text-align: right;\">\n",
       "      <th></th>\n",
       "      <th>title</th>\n",
       "      <th>text</th>\n",
       "      <th>subject</th>\n",
       "      <th>Month</th>\n",
       "      <th>Year</th>\n",
       "    </tr>\n",
       "  </thead>\n",
       "  <tbody>\n",
       "    <tr>\n",
       "      <th>0</th>\n",
       "      <td>As U.S. budget fight looms, Republicans flip t...</td>\n",
       "      <td>WASHINGTON (Reuters) - The head of a conservat...</td>\n",
       "      <td>politicsNews</td>\n",
       "      <td>12</td>\n",
       "      <td>2017</td>\n",
       "    </tr>\n",
       "    <tr>\n",
       "      <th>1</th>\n",
       "      <td>U.S. military to accept transgender recruits o...</td>\n",
       "      <td>WASHINGTON (Reuters) - Transgender people will...</td>\n",
       "      <td>politicsNews</td>\n",
       "      <td>12</td>\n",
       "      <td>2017</td>\n",
       "    </tr>\n",
       "    <tr>\n",
       "      <th>2</th>\n",
       "      <td>Senior U.S. Republican senator: 'Let Mr. Muell...</td>\n",
       "      <td>WASHINGTON (Reuters) - The special counsel inv...</td>\n",
       "      <td>politicsNews</td>\n",
       "      <td>12</td>\n",
       "      <td>2017</td>\n",
       "    </tr>\n",
       "    <tr>\n",
       "      <th>3</th>\n",
       "      <td>FBI Russia probe helped by Australian diplomat...</td>\n",
       "      <td>WASHINGTON (Reuters) - Trump campaign adviser ...</td>\n",
       "      <td>politicsNews</td>\n",
       "      <td>12</td>\n",
       "      <td>2017</td>\n",
       "    </tr>\n",
       "    <tr>\n",
       "      <th>4</th>\n",
       "      <td>Trump wants Postal Service to charge 'much mor...</td>\n",
       "      <td>SEATTLE/WASHINGTON (Reuters) - President Donal...</td>\n",
       "      <td>politicsNews</td>\n",
       "      <td>12</td>\n",
       "      <td>2017</td>\n",
       "    </tr>\n",
       "  </tbody>\n",
       "</table>\n",
       "</div>"
      ],
      "text/plain": [
       "                                               title  \\\n",
       "0  As U.S. budget fight looms, Republicans flip t...   \n",
       "1  U.S. military to accept transgender recruits o...   \n",
       "2  Senior U.S. Republican senator: 'Let Mr. Muell...   \n",
       "3  FBI Russia probe helped by Australian diplomat...   \n",
       "4  Trump wants Postal Service to charge 'much mor...   \n",
       "\n",
       "                                                text       subject  Month  \\\n",
       "0  WASHINGTON (Reuters) - The head of a conservat...  politicsNews     12   \n",
       "1  WASHINGTON (Reuters) - Transgender people will...  politicsNews     12   \n",
       "2  WASHINGTON (Reuters) - The special counsel inv...  politicsNews     12   \n",
       "3  WASHINGTON (Reuters) - Trump campaign adviser ...  politicsNews     12   \n",
       "4  SEATTLE/WASHINGTON (Reuters) - President Donal...  politicsNews     12   \n",
       "\n",
       "   Year  \n",
       "0  2017  \n",
       "1  2017  \n",
       "2  2017  \n",
       "3  2017  \n",
       "4  2017  "
      ]
     },
     "execution_count": 95,
     "metadata": {},
     "output_type": "execute_result"
    }
   ],
   "source": [
    "true.head()"
   ]
  },
  {
   "cell_type": "code",
   "execution_count": 97,
   "id": "b5556aef",
   "metadata": {
    "ExecuteTime": {
     "end_time": "2023-06-25T07:23:05.061742Z",
     "start_time": "2023-06-25T07:23:05.030760Z"
    }
   },
   "outputs": [
    {
     "data": {
      "text/html": [
       "<div>\n",
       "<style scoped>\n",
       "    .dataframe tbody tr th:only-of-type {\n",
       "        vertical-align: middle;\n",
       "    }\n",
       "\n",
       "    .dataframe tbody tr th {\n",
       "        vertical-align: top;\n",
       "    }\n",
       "\n",
       "    .dataframe thead th {\n",
       "        text-align: right;\n",
       "    }\n",
       "</style>\n",
       "<table border=\"1\" class=\"dataframe\">\n",
       "  <thead>\n",
       "    <tr style=\"text-align: right;\">\n",
       "      <th></th>\n",
       "      <th>title</th>\n",
       "      <th>text</th>\n",
       "      <th>subject</th>\n",
       "      <th>Month</th>\n",
       "      <th>Year</th>\n",
       "    </tr>\n",
       "  </thead>\n",
       "  <tbody>\n",
       "    <tr>\n",
       "      <th>0</th>\n",
       "      <td>Donald Trump Sends Out Embarrassing New Year\u0019...</td>\n",
       "      <td>Donald Trump just couldn t wish all Americans ...</td>\n",
       "      <td>worldnews</td>\n",
       "      <td>12.0</td>\n",
       "      <td>2017.0</td>\n",
       "    </tr>\n",
       "    <tr>\n",
       "      <th>1</th>\n",
       "      <td>Drunk Bragging Trump Staffer Started Russian ...</td>\n",
       "      <td>House Intelligence Committee Chairman Devin Nu...</td>\n",
       "      <td>worldnews</td>\n",
       "      <td>12.0</td>\n",
       "      <td>2017.0</td>\n",
       "    </tr>\n",
       "    <tr>\n",
       "      <th>2</th>\n",
       "      <td>Sheriff David Clarke Becomes An Internet Joke...</td>\n",
       "      <td>On Friday, it was revealed that former Milwauk...</td>\n",
       "      <td>worldnews</td>\n",
       "      <td>12.0</td>\n",
       "      <td>2017.0</td>\n",
       "    </tr>\n",
       "    <tr>\n",
       "      <th>3</th>\n",
       "      <td>Trump Is So Obsessed He Even Has Obama\u0019s Name...</td>\n",
       "      <td>On Christmas day, Donald Trump announced that ...</td>\n",
       "      <td>worldnews</td>\n",
       "      <td>12.0</td>\n",
       "      <td>2017.0</td>\n",
       "    </tr>\n",
       "    <tr>\n",
       "      <th>4</th>\n",
       "      <td>Pope Francis Just Called Out Donald Trump Dur...</td>\n",
       "      <td>Pope Francis used his annual Christmas Day mes...</td>\n",
       "      <td>worldnews</td>\n",
       "      <td>12.0</td>\n",
       "      <td>2017.0</td>\n",
       "    </tr>\n",
       "  </tbody>\n",
       "</table>\n",
       "</div>"
      ],
      "text/plain": [
       "                                               title  \\\n",
       "0   Donald Trump Sends Out Embarrassing New Year\u0019...   \n",
       "1   Drunk Bragging Trump Staffer Started Russian ...   \n",
       "2   Sheriff David Clarke Becomes An Internet Joke...   \n",
       "3   Trump Is So Obsessed He Even Has Obama\u0019s Name...   \n",
       "4   Pope Francis Just Called Out Donald Trump Dur...   \n",
       "\n",
       "                                                text    subject  Month    Year  \n",
       "0  Donald Trump just couldn t wish all Americans ...  worldnews   12.0  2017.0  \n",
       "1  House Intelligence Committee Chairman Devin Nu...  worldnews   12.0  2017.0  \n",
       "2  On Friday, it was revealed that former Milwauk...  worldnews   12.0  2017.0  \n",
       "3  On Christmas day, Donald Trump announced that ...  worldnews   12.0  2017.0  \n",
       "4  Pope Francis used his annual Christmas Day mes...  worldnews   12.0  2017.0  "
      ]
     },
     "execution_count": 97,
     "metadata": {},
     "output_type": "execute_result"
    }
   ],
   "source": [
    "fake.head()"
   ]
  },
  {
   "cell_type": "code",
   "execution_count": null,
   "id": "495a466f",
   "metadata": {
    "ExecuteTime": {
     "end_time": "2023-06-18T12:39:01.921825Z",
     "start_time": "2023-06-18T12:39:01.895842Z"
    }
   },
   "outputs": [],
   "source": []
  },
  {
   "cell_type": "code",
   "execution_count": null,
   "id": "ded49c38",
   "metadata": {
    "ExecuteTime": {
     "end_time": "2023-06-18T12:18:18.949575Z",
     "start_time": "2023-06-18T12:18:18.925587Z"
    }
   },
   "outputs": [],
   "source": []
  },
  {
   "cell_type": "code",
   "execution_count": 130,
   "id": "5ab90367",
   "metadata": {
    "ExecuteTime": {
     "end_time": "2023-06-18T12:40:12.564707Z",
     "start_time": "2023-06-18T12:40:10.084222Z"
    }
   },
   "outputs": [
    {
     "data": {
      "text/plain": [
       "[Text(0.5, 0, 'True_Subject'), Text(0, 0.5, 'count')]"
      ]
     },
     "execution_count": 130,
     "metadata": {},
     "output_type": "execute_result"
    },
    {
     "data": {
      "image/png": "[encoded data removed]",
      "text/plain": [
       "<Figure size 1100x800 with 2 Axes>"
      ]
     },
     "metadata": {},
     "output_type": "display_data"
    }
   ],
   "source": [
    "fig = plt.figure()\n",
    "sns.set(rc={'figure.figsize':(11,8)})\n",
    "ax1 = fig.add_subplot(1,2,1) \n",
    "ax2 = fig.add_subplot(1,2,2)\n",
    "sns.countplot(data = fake, x = 'subject', hue='Month',ax = ax1,).set(xlabel='fake_Subject', ylabel='count')\n",
    "sns.countplot(data = true, x = 'subject',hue='Month', ax = ax2).set(xlabel='True_Subject', ylabel='count')"
   ]
  },
  {
   "cell_type": "markdown",
   "id": "6f3411e4",
   "metadata": {
    "ExecuteTime": {
     "end_time": "2023-06-18T12:29:49.752761Z",
     "start_time": "2023-06-18T12:29:48.922445Z"
    }
   },
   "source": [
    "### Hence with this analysis with month we can clearly see that for true worldnews we have most of the news from SEPT to DEC "
   ]
  },
  {
   "cell_type": "code",
   "execution_count": 120,
   "id": "13b59b39",
   "metadata": {
    "ExecuteTime": {
     "end_time": "2023-06-18T12:33:29.639958Z",
     "start_time": "2023-06-18T12:33:28.556627Z"
    }
   },
   "outputs": [
    {
     "data": {
      "text/plain": [
       "[Text(0.5, 0, 'True_Subject'), Text(0, 0.5, 'count')]"
      ]
     },
     "execution_count": 120,
     "metadata": {},
     "output_type": "execute_result"
    },
    {
     "data": {
      "image/png": "[encoded data removed]",
      "text/plain": [
       "<Figure size 1100x800 with 2 Axes>"
      ]
     },
     "metadata": {},
     "output_type": "display_data"
    }
   ],
   "source": [
    "fig = plt.figure()\n",
    "sns.set(rc={'figure.figsize':(11,8)})\n",
    "ax1 = fig.add_subplot(1,2,1) \n",
    "ax2 = fig.add_subplot(1,2,2)\n",
    "sns.countplot(data = fake, x = 'subject', hue='Year',ax = ax1,).set(xlabel='fake_Subject', ylabel='count')\n",
    "sns.countplot(data = true, x = 'subject',hue='Year', ax = ax2).set(xlabel='True_Subject', ylabel='count')\n"
   ]
  },
  {
   "cell_type": "markdown",
   "id": "30ae49c2",
   "metadata": {},
   "source": [
    "### We can see that most of the true news revolvs around 2017 and 2016 and more of that in 2017 we have most of  the true world news "
   ]
  },
  {
   "cell_type": "code",
   "execution_count": null,
   "id": "b196e64f",
   "metadata": {},
   "outputs": [],
   "source": []
  },
  {
   "cell_type": "markdown",
   "id": "f04075b4",
   "metadata": {},
   "source": [
    "# Data Cleaning\n",
    "Now we are moving ahead with cleaning our data\n",
    "\n",
    "Removal of HTML Contents\n",
    "\n",
    "Removal of Punctuation Marks and Special Characters\n",
    "\n",
    "Removal of Stopwords\n",
    "\n",
    "Lemmatization"
   ]
  },
  {
   "cell_type": "code",
   "execution_count": null,
   "id": "e6ea1943",
   "metadata": {},
   "outputs": [],
   "source": []
  },
  {
   "cell_type": "markdown",
   "id": "349f2b58",
   "metadata": {},
   "source": [
    "### First of all we are  mearging our tile,subject with text in to a single column 'text' to continue with our data cleaning process"
   ]
  },
  {
   "cell_type": "code",
   "execution_count": 98,
   "id": "7f1883a2",
   "metadata": {
    "ExecuteTime": {
     "end_time": "2023-06-25T07:23:12.437126Z",
     "start_time": "2023-06-25T07:23:12.308205Z"
    }
   },
   "outputs": [
    {
     "data": {
      "text/html": [
       "<div>\n",
       "<style scoped>\n",
       "    .dataframe tbody tr th:only-of-type {\n",
       "        vertical-align: middle;\n",
       "    }\n",
       "\n",
       "    .dataframe tbody tr th {\n",
       "        vertical-align: top;\n",
       "    }\n",
       "\n",
       "    .dataframe thead th {\n",
       "        text-align: right;\n",
       "    }\n",
       "</style>\n",
       "<table border=\"1\" class=\"dataframe\">\n",
       "  <thead>\n",
       "    <tr style=\"text-align: right;\">\n",
       "      <th></th>\n",
       "      <th>text</th>\n",
       "      <th>Month</th>\n",
       "      <th>Year</th>\n",
       "    </tr>\n",
       "  </thead>\n",
       "  <tbody>\n",
       "    <tr>\n",
       "      <th>0</th>\n",
       "      <td>worldnews  Donald Trump Sends Out Embarrassing...</td>\n",
       "      <td>12.0</td>\n",
       "      <td>2017.0</td>\n",
       "    </tr>\n",
       "    <tr>\n",
       "      <th>1</th>\n",
       "      <td>worldnews  Drunk Bragging Trump Staffer Starte...</td>\n",
       "      <td>12.0</td>\n",
       "      <td>2017.0</td>\n",
       "    </tr>\n",
       "    <tr>\n",
       "      <th>2</th>\n",
       "      <td>worldnews  Sheriff David Clarke Becomes An Int...</td>\n",
       "      <td>12.0</td>\n",
       "      <td>2017.0</td>\n",
       "    </tr>\n",
       "    <tr>\n",
       "      <th>3</th>\n",
       "      <td>worldnews  Trump Is So Obsessed He Even Has Ob...</td>\n",
       "      <td>12.0</td>\n",
       "      <td>2017.0</td>\n",
       "    </tr>\n",
       "    <tr>\n",
       "      <th>4</th>\n",
       "      <td>worldnews  Pope Francis Just Called Out Donald...</td>\n",
       "      <td>12.0</td>\n",
       "      <td>2017.0</td>\n",
       "    </tr>\n",
       "  </tbody>\n",
       "</table>\n",
       "</div>"
      ],
      "text/plain": [
       "                                                text  Month    Year\n",
       "0  worldnews  Donald Trump Sends Out Embarrassing...   12.0  2017.0\n",
       "1  worldnews  Drunk Bragging Trump Staffer Starte...   12.0  2017.0\n",
       "2  worldnews  Sheriff David Clarke Becomes An Int...   12.0  2017.0\n",
       "3  worldnews  Trump Is So Obsessed He Even Has Ob...   12.0  2017.0\n",
       "4  worldnews  Pope Francis Just Called Out Donald...   12.0  2017.0"
      ]
     },
     "execution_count": 98,
     "metadata": {},
     "output_type": "execute_result"
    }
   ],
   "source": [
    "fake['text']= fake['subject'] + \" \" + fake['title'] + \" \" + fake['text']\n",
    "del fake['subject']\n",
    "del fake['title']\n",
    "fake.head()"
   ]
  },
  {
   "cell_type": "code",
   "execution_count": 99,
   "id": "354f307b",
   "metadata": {
    "ExecuteTime": {
     "end_time": "2023-06-25T07:23:14.935059Z",
     "start_time": "2023-06-25T07:23:14.821131Z"
    }
   },
   "outputs": [
    {
     "data": {
      "text/html": [
       "<div>\n",
       "<style scoped>\n",
       "    .dataframe tbody tr th:only-of-type {\n",
       "        vertical-align: middle;\n",
       "    }\n",
       "\n",
       "    .dataframe tbody tr th {\n",
       "        vertical-align: top;\n",
       "    }\n",
       "\n",
       "    .dataframe thead th {\n",
       "        text-align: right;\n",
       "    }\n",
       "</style>\n",
       "<table border=\"1\" class=\"dataframe\">\n",
       "  <thead>\n",
       "    <tr style=\"text-align: right;\">\n",
       "      <th></th>\n",
       "      <th>text</th>\n",
       "      <th>Month</th>\n",
       "      <th>Year</th>\n",
       "    </tr>\n",
       "  </thead>\n",
       "  <tbody>\n",
       "    <tr>\n",
       "      <th>0</th>\n",
       "      <td>politicsNews As U.S. budget fight looms, Repub...</td>\n",
       "      <td>12</td>\n",
       "      <td>2017</td>\n",
       "    </tr>\n",
       "    <tr>\n",
       "      <th>1</th>\n",
       "      <td>politicsNews U.S. military to accept transgend...</td>\n",
       "      <td>12</td>\n",
       "      <td>2017</td>\n",
       "    </tr>\n",
       "    <tr>\n",
       "      <th>2</th>\n",
       "      <td>politicsNews Senior U.S. Republican senator: '...</td>\n",
       "      <td>12</td>\n",
       "      <td>2017</td>\n",
       "    </tr>\n",
       "    <tr>\n",
       "      <th>3</th>\n",
       "      <td>politicsNews FBI Russia probe helped by Austra...</td>\n",
       "      <td>12</td>\n",
       "      <td>2017</td>\n",
       "    </tr>\n",
       "    <tr>\n",
       "      <th>4</th>\n",
       "      <td>politicsNews Trump wants Postal Service to cha...</td>\n",
       "      <td>12</td>\n",
       "      <td>2017</td>\n",
       "    </tr>\n",
       "  </tbody>\n",
       "</table>\n",
       "</div>"
      ],
      "text/plain": [
       "                                                text  Month  Year\n",
       "0  politicsNews As U.S. budget fight looms, Repub...     12  2017\n",
       "1  politicsNews U.S. military to accept transgend...     12  2017\n",
       "2  politicsNews Senior U.S. Republican senator: '...     12  2017\n",
       "3  politicsNews FBI Russia probe helped by Austra...     12  2017\n",
       "4  politicsNews Trump wants Postal Service to cha...     12  2017"
      ]
     },
     "execution_count": 99,
     "metadata": {},
     "output_type": "execute_result"
    }
   ],
   "source": [
    "true['text']= true['subject'] + \" \" + true['title'] + \" \" + true['text']\n",
    "del true['subject']\n",
    "del true['title']\n",
    "true.head()\n"
   ]
  },
  {
   "cell_type": "code",
   "execution_count": 100,
   "id": "bc26b513",
   "metadata": {
    "ExecuteTime": {
     "end_time": "2023-06-25T07:23:51.996225Z",
     "start_time": "2023-06-25T07:23:51.977236Z"
    }
   },
   "outputs": [],
   "source": [
    "from bs4 import BeautifulSoup\n",
    "import re\n",
    "import nltk\n",
    "import string\n",
    "from nltk.corpus import stopwords  "
   ]
  },
  {
   "cell_type": "code",
   "execution_count": 101,
   "id": "2746f3dc",
   "metadata": {
    "ExecuteTime": {
     "end_time": "2023-06-25T07:23:54.734766Z",
     "start_time": "2023-06-25T07:23:54.723771Z"
    }
   },
   "outputs": [],
   "source": [
    "def remove_html(text):\n",
    "    soup = BeautifulSoup(text, \"html.parser\")\n",
    "    return soup.get_text()\n",
    "def remove_punctuations(text):\n",
    "    return re.sub('\\[[^]]*\\]', '', text)\n",
    "def remove_characters(text):\n",
    "    return re.sub(\"[^a-zA-Z]\",\" \",text)\n"
   ]
  },
  {
   "cell_type": "code",
   "execution_count": 102,
   "id": "cf932fe6",
   "metadata": {
    "ExecuteTime": {
     "end_time": "2023-06-25T07:23:56.813960Z",
     "start_time": "2023-06-25T07:23:56.799968Z"
    }
   },
   "outputs": [],
   "source": [
    "def cleaning(text):\n",
    "    text = remove_html(text)\n",
    "    text = text.lower()\n",
    "    text = re.sub('\\[.*?\\]', '', text)\n",
    "    text = re.sub('[%s]' % re.escape(string.punctuation), '', text)\n",
    "    text = re.sub('\\w*\\d\\w*', '', text)\n",
    "    text = re.sub(\"[0-9\" \"]+\",\" \",text)\n",
    "    text = re.sub('[‘’“”…]', '', text)\n",
    "    return text\n",
    "\n",
    "clean = lambda x: cleaning(x)"
   ]
  },
  {
   "cell_type": "code",
   "execution_count": 103,
   "id": "4ff65051",
   "metadata": {
    "ExecuteTime": {
     "end_time": "2023-06-25T07:23:59.510283Z",
     "start_time": "2023-06-25T07:23:59.490295Z"
    }
   },
   "outputs": [
    {
     "data": {
      "text/html": [
       "<div>\n",
       "<style scoped>\n",
       "    .dataframe tbody tr th:only-of-type {\n",
       "        vertical-align: middle;\n",
       "    }\n",
       "\n",
       "    .dataframe tbody tr th {\n",
       "        vertical-align: top;\n",
       "    }\n",
       "\n",
       "    .dataframe thead th {\n",
       "        text-align: right;\n",
       "    }\n",
       "</style>\n",
       "<table border=\"1\" class=\"dataframe\">\n",
       "  <thead>\n",
       "    <tr style=\"text-align: right;\">\n",
       "      <th></th>\n",
       "      <th>text</th>\n",
       "      <th>Month</th>\n",
       "      <th>Year</th>\n",
       "    </tr>\n",
       "  </thead>\n",
       "  <tbody>\n",
       "    <tr>\n",
       "      <th>0</th>\n",
       "      <td>politicsNews As U.S. budget fight looms, Repub...</td>\n",
       "      <td>12</td>\n",
       "      <td>2017</td>\n",
       "    </tr>\n",
       "    <tr>\n",
       "      <th>1</th>\n",
       "      <td>politicsNews U.S. military to accept transgend...</td>\n",
       "      <td>12</td>\n",
       "      <td>2017</td>\n",
       "    </tr>\n",
       "    <tr>\n",
       "      <th>2</th>\n",
       "      <td>politicsNews Senior U.S. Republican senator: '...</td>\n",
       "      <td>12</td>\n",
       "      <td>2017</td>\n",
       "    </tr>\n",
       "    <tr>\n",
       "      <th>3</th>\n",
       "      <td>politicsNews FBI Russia probe helped by Austra...</td>\n",
       "      <td>12</td>\n",
       "      <td>2017</td>\n",
       "    </tr>\n",
       "    <tr>\n",
       "      <th>4</th>\n",
       "      <td>politicsNews Trump wants Postal Service to cha...</td>\n",
       "      <td>12</td>\n",
       "      <td>2017</td>\n",
       "    </tr>\n",
       "  </tbody>\n",
       "</table>\n",
       "</div>"
      ],
      "text/plain": [
       "                                                text  Month  Year\n",
       "0  politicsNews As U.S. budget fight looms, Repub...     12  2017\n",
       "1  politicsNews U.S. military to accept transgend...     12  2017\n",
       "2  politicsNews Senior U.S. Republican senator: '...     12  2017\n",
       "3  politicsNews FBI Russia probe helped by Austra...     12  2017\n",
       "4  politicsNews Trump wants Postal Service to cha...     12  2017"
      ]
     },
     "execution_count": 103,
     "metadata": {},
     "output_type": "execute_result"
    }
   ],
   "source": [
    "true.head()"
   ]
  },
  {
   "cell_type": "code",
   "execution_count": 104,
   "id": "5409c86e",
   "metadata": {
    "ExecuteTime": {
     "end_time": "2023-06-25T07:24:01.642029Z",
     "start_time": "2023-06-25T07:24:01.618043Z"
    }
   },
   "outputs": [
    {
     "data": {
      "text/html": [
       "<div>\n",
       "<style scoped>\n",
       "    .dataframe tbody tr th:only-of-type {\n",
       "        vertical-align: middle;\n",
       "    }\n",
       "\n",
       "    .dataframe tbody tr th {\n",
       "        vertical-align: top;\n",
       "    }\n",
       "\n",
       "    .dataframe thead th {\n",
       "        text-align: right;\n",
       "    }\n",
       "</style>\n",
       "<table border=\"1\" class=\"dataframe\">\n",
       "  <thead>\n",
       "    <tr style=\"text-align: right;\">\n",
       "      <th></th>\n",
       "      <th>text</th>\n",
       "      <th>Month</th>\n",
       "      <th>Year</th>\n",
       "    </tr>\n",
       "  </thead>\n",
       "  <tbody>\n",
       "    <tr>\n",
       "      <th>0</th>\n",
       "      <td>worldnews  Donald Trump Sends Out Embarrassing...</td>\n",
       "      <td>12.0</td>\n",
       "      <td>2017.0</td>\n",
       "    </tr>\n",
       "    <tr>\n",
       "      <th>1</th>\n",
       "      <td>worldnews  Drunk Bragging Trump Staffer Starte...</td>\n",
       "      <td>12.0</td>\n",
       "      <td>2017.0</td>\n",
       "    </tr>\n",
       "    <tr>\n",
       "      <th>2</th>\n",
       "      <td>worldnews  Sheriff David Clarke Becomes An Int...</td>\n",
       "      <td>12.0</td>\n",
       "      <td>2017.0</td>\n",
       "    </tr>\n",
       "    <tr>\n",
       "      <th>3</th>\n",
       "      <td>worldnews  Trump Is So Obsessed He Even Has Ob...</td>\n",
       "      <td>12.0</td>\n",
       "      <td>2017.0</td>\n",
       "    </tr>\n",
       "    <tr>\n",
       "      <th>4</th>\n",
       "      <td>worldnews  Pope Francis Just Called Out Donald...</td>\n",
       "      <td>12.0</td>\n",
       "      <td>2017.0</td>\n",
       "    </tr>\n",
       "  </tbody>\n",
       "</table>\n",
       "</div>"
      ],
      "text/plain": [
       "                                                text  Month    Year\n",
       "0  worldnews  Donald Trump Sends Out Embarrassing...   12.0  2017.0\n",
       "1  worldnews  Drunk Bragging Trump Staffer Starte...   12.0  2017.0\n",
       "2  worldnews  Sheriff David Clarke Becomes An Int...   12.0  2017.0\n",
       "3  worldnews  Trump Is So Obsessed He Even Has Ob...   12.0  2017.0\n",
       "4  worldnews  Pope Francis Just Called Out Donald...   12.0  2017.0"
      ]
     },
     "execution_count": 104,
     "metadata": {},
     "output_type": "execute_result"
    }
   ],
   "source": [
    "fake.head()"
   ]
  },
  {
   "cell_type": "markdown",
   "id": "f8e96626",
   "metadata": {},
   "source": [
    "# FAKE DATASET"
   ]
  },
  {
   "cell_type": "code",
   "execution_count": null,
   "id": "c2e238f1",
   "metadata": {},
   "outputs": [],
   "source": []
  },
  {
   "cell_type": "code",
   "execution_count": 105,
   "id": "9f514814",
   "metadata": {
    "ExecuteTime": {
     "end_time": "2023-06-25T07:24:34.003741Z",
     "start_time": "2023-06-25T07:24:05.029573Z"
    }
   },
   "outputs": [],
   "source": [
    "fake['text']=fake['text'].apply(cleaning)\n"
   ]
  },
  {
   "cell_type": "code",
   "execution_count": 39,
   "id": "5d133a8e",
   "metadata": {
    "ExecuteTime": {
     "end_time": "2023-06-24T13:08:26.500659Z",
     "start_time": "2023-06-24T13:08:07.154708Z"
    }
   },
   "outputs": [],
   "source": []
  },
  {
   "cell_type": "code",
   "execution_count": 34,
   "id": "161e46de",
   "metadata": {
    "ExecuteTime": {
     "end_time": "2023-06-25T06:54:13.617129Z",
     "start_time": "2023-06-25T06:54:13.586149Z"
    }
   },
   "outputs": [
    {
     "data": {
      "text/html": [
       "<div>\n",
       "<style scoped>\n",
       "    .dataframe tbody tr th:only-of-type {\n",
       "        vertical-align: middle;\n",
       "    }\n",
       "\n",
       "    .dataframe tbody tr th {\n",
       "        vertical-align: top;\n",
       "    }\n",
       "\n",
       "    .dataframe thead th {\n",
       "        text-align: right;\n",
       "    }\n",
       "</style>\n",
       "<table border=\"1\" class=\"dataframe\">\n",
       "  <thead>\n",
       "    <tr style=\"text-align: right;\">\n",
       "      <th></th>\n",
       "      <th>text</th>\n",
       "      <th>Month</th>\n",
       "      <th>Year</th>\n",
       "    </tr>\n",
       "  </thead>\n",
       "  <tbody>\n",
       "    <tr>\n",
       "      <th>0</th>\n",
       "      <td>worldnews  donald trump sends out embarrassing...</td>\n",
       "      <td>12.0</td>\n",
       "      <td>2017.0</td>\n",
       "    </tr>\n",
       "    <tr>\n",
       "      <th>1</th>\n",
       "      <td>worldnews  drunk bragging trump staffer starte...</td>\n",
       "      <td>12.0</td>\n",
       "      <td>2017.0</td>\n",
       "    </tr>\n",
       "    <tr>\n",
       "      <th>2</th>\n",
       "      <td>worldnews  sheriff david clarke becomes an int...</td>\n",
       "      <td>12.0</td>\n",
       "      <td>2017.0</td>\n",
       "    </tr>\n",
       "    <tr>\n",
       "      <th>3</th>\n",
       "      <td>worldnews  trump is so obsessed he even has ob...</td>\n",
       "      <td>12.0</td>\n",
       "      <td>2017.0</td>\n",
       "    </tr>\n",
       "    <tr>\n",
       "      <th>4</th>\n",
       "      <td>worldnews  pope francis just called out donald...</td>\n",
       "      <td>12.0</td>\n",
       "      <td>2017.0</td>\n",
       "    </tr>\n",
       "  </tbody>\n",
       "</table>\n",
       "</div>"
      ],
      "text/plain": [
       "                                                text  Month    Year\n",
       "0  worldnews  donald trump sends out embarrassing...   12.0  2017.0\n",
       "1  worldnews  drunk bragging trump staffer starte...   12.0  2017.0\n",
       "2  worldnews  sheriff david clarke becomes an int...   12.0  2017.0\n",
       "3  worldnews  trump is so obsessed he even has ob...   12.0  2017.0\n",
       "4  worldnews  pope francis just called out donald...   12.0  2017.0"
      ]
     },
     "execution_count": 34,
     "metadata": {},
     "output_type": "execute_result"
    }
   ],
   "source": [
    "fake.head()"
   ]
  },
  {
   "cell_type": "code",
   "execution_count": 112,
   "id": "bde7bc0c",
   "metadata": {
    "ExecuteTime": {
     "end_time": "2023-06-25T07:27:37.799240Z",
     "start_time": "2023-06-25T07:26:50.481864Z"
    }
   },
   "outputs": [
    {
     "data": {
      "text/html": [
       "<div>\n",
       "<style scoped>\n",
       "    .dataframe tbody tr th:only-of-type {\n",
       "        vertical-align: middle;\n",
       "    }\n",
       "\n",
       "    .dataframe tbody tr th {\n",
       "        vertical-align: top;\n",
       "    }\n",
       "\n",
       "    .dataframe thead th {\n",
       "        text-align: right;\n",
       "    }\n",
       "</style>\n",
       "<table border=\"1\" class=\"dataframe\">\n",
       "  <thead>\n",
       "    <tr style=\"text-align: right;\">\n",
       "      <th></th>\n",
       "      <th>text</th>\n",
       "      <th>Month</th>\n",
       "      <th>Year</th>\n",
       "      <th>num_words</th>\n",
       "    </tr>\n",
       "  </thead>\n",
       "  <tbody>\n",
       "    <tr>\n",
       "      <th>0</th>\n",
       "      <td>worldnews donald trump send embarrass new year...</td>\n",
       "      <td>12.0</td>\n",
       "      <td>2017.0</td>\n",
       "      <td>259</td>\n",
       "    </tr>\n",
       "    <tr>\n",
       "      <th>1</th>\n",
       "      <td>worldnews drink brag trump staffer start russi...</td>\n",
       "      <td>12.0</td>\n",
       "      <td>2017.0</td>\n",
       "      <td>187</td>\n",
       "    </tr>\n",
       "    <tr>\n",
       "      <th>2</th>\n",
       "      <td>worldnews sheriff david clarke become internet...</td>\n",
       "      <td>12.0</td>\n",
       "      <td>2017.0</td>\n",
       "      <td>314</td>\n",
       "    </tr>\n",
       "    <tr>\n",
       "      <th>3</th>\n",
       "      <td>worldnews trump obsess even obama\u0019s name cod w...</td>\n",
       "      <td>12.0</td>\n",
       "      <td>2017.0</td>\n",
       "      <td>245</td>\n",
       "    </tr>\n",
       "    <tr>\n",
       "      <th>4</th>\n",
       "      <td>worldnews pope francis call donald trump chris...</td>\n",
       "      <td>12.0</td>\n",
       "      <td>2017.0</td>\n",
       "      <td>219</td>\n",
       "    </tr>\n",
       "  </tbody>\n",
       "</table>\n",
       "</div>"
      ],
      "text/plain": [
       "                                                text  Month    Year  num_words\n",
       "0  worldnews donald trump send embarrass new year...   12.0  2017.0        259\n",
       "1  worldnews drink brag trump staffer start russi...   12.0  2017.0        187\n",
       "2  worldnews sheriff david clarke become internet...   12.0  2017.0        314\n",
       "3  worldnews trump obsess even obama\u0019s name cod w...   12.0  2017.0        245\n",
       "4  worldnews pope francis call donald trump chris...   12.0  2017.0        219"
      ]
     },
     "execution_count": 112,
     "metadata": {},
     "output_type": "execute_result"
    }
   ],
   "source": [
    "#num of Words \n",
    "fake['num_words']=fake['text'].apply(lambda x:len(nltk.word_tokenize(x)))\n",
    "fake.head()"
   ]
  },
  {
   "cell_type": "code",
   "execution_count": 129,
   "id": "c48b27a0",
   "metadata": {
    "ExecuteTime": {
     "end_time": "2023-06-25T07:38:40.117322Z",
     "start_time": "2023-06-25T07:38:38.353517Z"
    }
   },
   "outputs": [],
   "source": [
    "#num of sentence \n",
    "fake['num_sent']=fake['text'].apply(lambda x:len(nltk.sent_tokenize(x)))\n",
    "del fake['num_sent']"
   ]
  },
  {
   "cell_type": "code",
   "execution_count": 106,
   "id": "a6c4fb0a",
   "metadata": {
    "ExecuteTime": {
     "end_time": "2023-06-25T07:24:40.224913Z",
     "start_time": "2023-06-25T07:24:34.076702Z"
    }
   },
   "outputs": [
    {
     "data": {
      "text/plain": [
       "the      532274\n",
       "to       298881\n",
       "of       240688\n",
       "and      227656\n",
       "a        213759\n",
       "in       168756\n",
       "that     150806\n",
       "s        129212\n",
       "is       113405\n",
       "for       96659\n",
       "on        84764\n",
       "trump     80454\n",
       "it        79332\n",
       "he        78393\n",
       "was       68520\n",
       "with      65286\n",
       "his       59604\n",
       "as        56696\n",
       "this      56030\n",
       "be        49426\n",
       "dtype: int64"
      ]
     },
     "execution_count": 106,
     "metadata": {},
     "output_type": "execute_result"
    }
   ],
   "source": [
    "#Word frequency for fake dataset\n",
    "freq = pd.Series(' '.join(fake['text']).split()).value_counts()[:20] # for top 50\n",
    "freq"
   ]
  },
  {
   "cell_type": "code",
   "execution_count": 107,
   "id": "42499a9a",
   "metadata": {
    "ExecuteTime": {
     "end_time": "2023-06-25T07:25:26.512545Z",
     "start_time": "2023-06-25T07:24:40.339843Z"
    }
   },
   "outputs": [],
   "source": [
    "#removing stopwords\n",
    "from nltk.corpus import stopwords\n",
    "stop = stopwords.words('english')\n",
    "fake['text'] = fake['text'].apply(lambda x: \" \".join(x for x in x.split() if x not in stop))"
   ]
  },
  {
   "cell_type": "code",
   "execution_count": 108,
   "id": "81683d02",
   "metadata": {
    "ExecuteTime": {
     "end_time": "2023-06-25T07:25:31.868364Z",
     "start_time": "2023-06-25T07:25:28.753283Z"
    }
   },
   "outputs": [
    {
     "data": {
      "text/plain": [
       "trump        80454\n",
       "said         31196\n",
       "president    26523\n",
       "people       26377\n",
       "would        23658\n",
       "one          23429\n",
       "us           22986\n",
       "obama        19520\n",
       "clinton      18865\n",
       "like         17959\n",
       "donald       17919\n",
       "also         15245\n",
       "hillary      15219\n",
       "worldnews    15070\n",
       "new          14998\n",
       "news         14860\n",
       "even         13835\n",
       "white        13550\n",
       "time         12941\n",
       "state        12893\n",
       "dtype: int64"
      ]
     },
     "execution_count": 108,
     "metadata": {},
     "output_type": "execute_result"
    }
   ],
   "source": [
    "#word frequency after removal of stopwords in fake dataset\n",
    "freq_fk = pd.Series(' '.join(fake['text']).split()).value_counts()[:20] # for top 50\n",
    "freq_fk"
   ]
  },
  {
   "cell_type": "code",
   "execution_count": 109,
   "id": "5ed2b408",
   "metadata": {
    "ExecuteTime": {
     "end_time": "2023-06-25T07:25:37.254740Z",
     "start_time": "2023-06-25T07:25:37.246743Z"
    }
   },
   "outputs": [],
   "source": [
    "#Lets perfom lamatization into entire dataset\n",
    "def lemmatize_words(text):\n",
    "        lemma = nltk.WordNetLemmatizer()\n",
    "        words = text.split()\n",
    "        words = [lemma.lemmatize(word,pos='v') for word in words]\n",
    "        return ' '.join(words)"
   ]
  },
  {
   "cell_type": "code",
   "execution_count": 110,
   "id": "64fa7352",
   "metadata": {
    "ExecuteTime": {
     "end_time": "2023-06-25T07:26:36.910799Z",
     "start_time": "2023-06-25T07:25:39.362668Z"
    }
   },
   "outputs": [],
   "source": [
    "fake['text'] = fake['text'].apply(lemmatize_words)"
   ]
  },
  {
   "cell_type": "code",
   "execution_count": 111,
   "id": "5274ea2f",
   "metadata": {
    "ExecuteTime": {
     "end_time": "2023-06-25T07:26:43.633366Z",
     "start_time": "2023-06-25T07:26:40.607229Z"
    }
   },
   "outputs": [
    {
     "data": {
      "text/plain": [
       "trump        80807\n",
       "say          52572\n",
       "president    26523\n",
       "people       26468\n",
       "go           24848\n",
       "             ...  \n",
       "americans     6423\n",
       "accord        6371\n",
       "never         6367\n",
       "really        6358\n",
       "day           6333\n",
       "Length: 100, dtype: int64"
      ]
     },
     "execution_count": 111,
     "metadata": {},
     "output_type": "execute_result"
    }
   ],
   "source": [
    "#word frequency after lamatization in fake dataset\n",
    "freq_fk = pd.Series(' '.join(fake['text']).split()).value_counts()[:100] # for top 100\n",
    "freq_fk"
   ]
  },
  {
   "cell_type": "markdown",
   "id": "ce462d17",
   "metadata": {
    "ExecuteTime": {
     "end_time": "2023-06-24T15:28:13.158129Z",
     "start_time": "2023-06-24T15:28:13.125149Z"
    }
   },
   "source": [
    "### Now as per our analysis lets add the top 100 most frequently occuring common words into stop words "
   ]
  },
  {
   "cell_type": "code",
   "execution_count": 73,
   "id": "5f720e95",
   "metadata": {
    "ExecuteTime": {
     "end_time": "2023-06-24T16:39:19.030031Z",
     "start_time": "2023-06-24T16:39:19.016041Z"
    }
   },
   "outputs": [],
   "source": [
    "new_stopwords = ['trump','say','president','people','go','make','state','would','one','us','get','obama','clinton','time','take','donald','tell','also','worldnews','new','white','come','call','right','want','use','house','campaign','report','see','vote','give','work','could','first','back','many','republican','attack','country','government','need','support','two','politicsnews','years','election','unite','party','last','group','include','may','political','republicans','former','national','bill','law','help','year','accord']"
   ]
  },
  {
   "cell_type": "code",
   "execution_count": 81,
   "id": "524bae15",
   "metadata": {
    "ExecuteTime": {
     "end_time": "2023-06-24T16:42:09.577872Z",
     "start_time": "2023-06-24T16:42:09.570875Z"
    }
   },
   "outputs": [],
   "source": [
    "stop.extend(new_stopwords)"
   ]
  },
  {
   "cell_type": "code",
   "execution_count": 75,
   "id": "a3b06382",
   "metadata": {
    "ExecuteTime": {
     "end_time": "2023-06-24T16:39:23.110641Z",
     "start_time": "2023-06-24T16:39:23.087656Z"
    }
   },
   "outputs": [
    {
     "data": {
      "text/plain": [
       "['i',\n",
       " 'me',\n",
       " 'my',\n",
       " 'myself',\n",
       " 'we',\n",
       " 'our',\n",
       " 'ours',\n",
       " 'ourselves',\n",
       " 'you',\n",
       " \"you're\",\n",
       " \"you've\",\n",
       " \"you'll\",\n",
       " \"you'd\",\n",
       " 'your',\n",
       " 'yours',\n",
       " 'yourself',\n",
       " 'yourselves',\n",
       " 'he',\n",
       " 'him',\n",
       " 'his',\n",
       " 'himself',\n",
       " 'she',\n",
       " \"she's\",\n",
       " 'her',\n",
       " 'hers',\n",
       " 'herself',\n",
       " 'it',\n",
       " \"it's\",\n",
       " 'its',\n",
       " 'itself',\n",
       " 'they',\n",
       " 'them',\n",
       " 'their',\n",
       " 'theirs',\n",
       " 'themselves',\n",
       " 'what',\n",
       " 'which',\n",
       " 'who',\n",
       " 'whom',\n",
       " 'this',\n",
       " 'that',\n",
       " \"that'll\",\n",
       " 'these',\n",
       " 'those',\n",
       " 'am',\n",
       " 'is',\n",
       " 'are',\n",
       " 'was',\n",
       " 'were',\n",
       " 'be',\n",
       " 'been',\n",
       " 'being',\n",
       " 'have',\n",
       " 'has',\n",
       " 'had',\n",
       " 'having',\n",
       " 'do',\n",
       " 'does',\n",
       " 'did',\n",
       " 'doing',\n",
       " 'a',\n",
       " 'an',\n",
       " 'the',\n",
       " 'and',\n",
       " 'but',\n",
       " 'if',\n",
       " 'or',\n",
       " 'because',\n",
       " 'as',\n",
       " 'until',\n",
       " 'while',\n",
       " 'of',\n",
       " 'at',\n",
       " 'by',\n",
       " 'for',\n",
       " 'with',\n",
       " 'about',\n",
       " 'against',\n",
       " 'between',\n",
       " 'into',\n",
       " 'through',\n",
       " 'during',\n",
       " 'before',\n",
       " 'after',\n",
       " 'above',\n",
       " 'below',\n",
       " 'to',\n",
       " 'from',\n",
       " 'up',\n",
       " 'down',\n",
       " 'in',\n",
       " 'out',\n",
       " 'on',\n",
       " 'off',\n",
       " 'over',\n",
       " 'under',\n",
       " 'again',\n",
       " 'further',\n",
       " 'then',\n",
       " 'once',\n",
       " 'here',\n",
       " 'there',\n",
       " 'when',\n",
       " 'where',\n",
       " 'why',\n",
       " 'how',\n",
       " 'all',\n",
       " 'any',\n",
       " 'both',\n",
       " 'each',\n",
       " 'few',\n",
       " 'more',\n",
       " 'most',\n",
       " 'other',\n",
       " 'some',\n",
       " 'such',\n",
       " 'no',\n",
       " 'nor',\n",
       " 'not',\n",
       " 'only',\n",
       " 'own',\n",
       " 'same',\n",
       " 'so',\n",
       " 'than',\n",
       " 'too',\n",
       " 'very',\n",
       " 's',\n",
       " 't',\n",
       " 'can',\n",
       " 'will',\n",
       " 'just',\n",
       " 'don',\n",
       " \"don't\",\n",
       " 'should',\n",
       " \"should've\",\n",
       " 'now',\n",
       " 'd',\n",
       " 'll',\n",
       " 'm',\n",
       " 'o',\n",
       " 're',\n",
       " 've',\n",
       " 'y',\n",
       " 'ain',\n",
       " 'aren',\n",
       " \"aren't\",\n",
       " 'couldn',\n",
       " \"couldn't\",\n",
       " 'didn',\n",
       " \"didn't\",\n",
       " 'doesn',\n",
       " \"doesn't\",\n",
       " 'hadn',\n",
       " \"hadn't\",\n",
       " 'hasn',\n",
       " \"hasn't\",\n",
       " 'haven',\n",
       " \"haven't\",\n",
       " 'isn',\n",
       " \"isn't\",\n",
       " 'ma',\n",
       " 'mightn',\n",
       " \"mightn't\",\n",
       " 'mustn',\n",
       " \"mustn't\",\n",
       " 'needn',\n",
       " \"needn't\",\n",
       " 'shan',\n",
       " \"shan't\",\n",
       " 'shouldn',\n",
       " \"shouldn't\",\n",
       " 'wasn',\n",
       " \"wasn't\",\n",
       " 'weren',\n",
       " \"weren't\",\n",
       " 'won',\n",
       " \"won't\",\n",
       " 'wouldn',\n",
       " \"wouldn't\",\n",
       " 'trump,say,president,people,go,make,state,would,one,us,get,obama,clinton,time,take,donald,tell,also,worldnews,new,white,come,call,right,want,use,house,campaign,report,see,vote,give,work,could,first,back,many,republican,attack,country,government,need,support,two,politicsnews,years,election,unite,party,last,group,include,may,political,republicans,former,national,bill,law,help,year,accord',\n",
       " 'trump',\n",
       " 'say',\n",
       " 'president',\n",
       " 'people',\n",
       " 'go',\n",
       " 'make',\n",
       " 'state',\n",
       " 'would',\n",
       " 'one',\n",
       " 'us',\n",
       " 'get',\n",
       " 'obama',\n",
       " 'clinton',\n",
       " 'time',\n",
       " 'take',\n",
       " 'donald',\n",
       " 'tell',\n",
       " 'also',\n",
       " 'worldnews',\n",
       " 'new',\n",
       " 'white',\n",
       " 'come',\n",
       " 'call',\n",
       " 'right',\n",
       " 'want',\n",
       " 'use',\n",
       " 'house',\n",
       " 'campaign',\n",
       " 'report',\n",
       " 'see',\n",
       " 'vote',\n",
       " 'give',\n",
       " 'work',\n",
       " 'could',\n",
       " 'first',\n",
       " 'back',\n",
       " 'many',\n",
       " 'republican',\n",
       " 'attack',\n",
       " 'country',\n",
       " 'government',\n",
       " 'need',\n",
       " 'support',\n",
       " 'two',\n",
       " 'politicsnews',\n",
       " 'years',\n",
       " 'election',\n",
       " 'unite',\n",
       " 'party',\n",
       " 'last',\n",
       " 'group',\n",
       " 'include',\n",
       " 'may',\n",
       " 'political',\n",
       " 'republicans',\n",
       " 'former',\n",
       " 'national',\n",
       " 'bill',\n",
       " 'law',\n",
       " 'help',\n",
       " 'year',\n",
       " 'accord',\n",
       " 'trump',\n",
       " 'say',\n",
       " 'president',\n",
       " 'people',\n",
       " 'go',\n",
       " 'make',\n",
       " 'state',\n",
       " 'would',\n",
       " 'one',\n",
       " 'us',\n",
       " 'get',\n",
       " 'obama',\n",
       " 'clinton',\n",
       " 'time',\n",
       " 'take',\n",
       " 'donald',\n",
       " 'tell',\n",
       " 'also',\n",
       " 'worldnews',\n",
       " 'new',\n",
       " 'white',\n",
       " 'come',\n",
       " 'call',\n",
       " 'right',\n",
       " 'want',\n",
       " 'use',\n",
       " 'house',\n",
       " 'campaign',\n",
       " 'report',\n",
       " 'see',\n",
       " 'vote',\n",
       " 'give',\n",
       " 'work',\n",
       " 'could',\n",
       " 'first',\n",
       " 'back',\n",
       " 'many',\n",
       " 'republican',\n",
       " 'attack',\n",
       " 'country',\n",
       " 'government',\n",
       " 'need',\n",
       " 'support',\n",
       " 'two',\n",
       " 'politicsnews',\n",
       " 'years',\n",
       " 'election',\n",
       " 'unite',\n",
       " 'party',\n",
       " 'last',\n",
       " 'group',\n",
       " 'include',\n",
       " 'may',\n",
       " 'political',\n",
       " 'republicans',\n",
       " 'former',\n",
       " 'national',\n",
       " 'bill',\n",
       " 'law',\n",
       " 'help',\n",
       " 'year',\n",
       " 'accord']"
      ]
     },
     "execution_count": 75,
     "metadata": {},
     "output_type": "execute_result"
    }
   ],
   "source": [
    "stop"
   ]
  },
  {
   "cell_type": "code",
   "execution_count": 77,
   "id": "e20af0c4",
   "metadata": {
    "ExecuteTime": {
     "end_time": "2023-06-24T16:40:27.535801Z",
     "start_time": "2023-06-24T16:39:46.369353Z"
    }
   },
   "outputs": [],
   "source": [
    "fake['text'] = fake['text'].apply(lambda x: \" \".join(x for x in x.split() if x not in stop))"
   ]
  },
  {
   "cell_type": "code",
   "execution_count": 82,
   "id": "ab707261",
   "metadata": {
    "ExecuteTime": {
     "end_time": "2023-06-24T16:42:14.540927Z",
     "start_time": "2023-06-24T16:42:14.521940Z"
    }
   },
   "outputs": [],
   "source": [
    "stop = nltk.corpus.stopwords.words('english')\n",
    "stop.extend(new_stopwords)\n"
   ]
  },
  {
   "cell_type": "code",
   "execution_count": 78,
   "id": "7262e680",
   "metadata": {
    "ExecuteTime": {
     "end_time": "2023-06-24T16:40:41.760427Z",
     "start_time": "2023-06-24T16:40:41.735443Z"
    }
   },
   "outputs": [
    {
     "data": {
      "text/plain": [
       "0        send embarrass year\u0019s eve message disturb wish...\n",
       "1        drink brag staffer start russian collusion inv...\n",
       "2        sheriff david clarke become internet joke thre...\n",
       "3        obsess even obama\u0019s name cod website image chr...\n",
       "4        pope francis christmas speech pope francis ann...\n",
       "                               ...                        \n",
       "23476    mcpain john mccain furious iran treat sailors ...\n",
       "23477    justice yahoo settle email privacy classaction...\n",
       "23478    sunnistan ally \u0018safe zone\u0019 plan territorial bo...\n",
       "23479    blow million al jazeera america finally quit c...\n",
       "23480    navy sailors hold iranian military \u0013 sign neoc...\n",
       "Name: text, Length: 23478, dtype: object"
      ]
     },
     "execution_count": 78,
     "metadata": {},
     "output_type": "execute_result"
    }
   ],
   "source": [
    "fake['text']"
   ]
  },
  {
   "cell_type": "markdown",
   "id": "be4bf90c",
   "metadata": {
    "ExecuteTime": {
     "end_time": "2023-06-17T16:20:11.688164Z",
     "start_time": "2023-06-17T16:20:11.637195Z"
    }
   },
   "source": [
    "# TRUE DATASET"
   ]
  },
  {
   "cell_type": "code",
   "execution_count": 114,
   "id": "6611aa47",
   "metadata": {
    "ExecuteTime": {
     "end_time": "2023-06-25T07:28:11.740991Z",
     "start_time": "2023-06-25T07:27:50.480058Z"
    }
   },
   "outputs": [],
   "source": [
    "true['text']=true['text'].apply(cleaning)"
   ]
  },
  {
   "cell_type": "code",
   "execution_count": 115,
   "id": "40f915c3",
   "metadata": {
    "ExecuteTime": {
     "end_time": "2023-06-25T07:28:17.571595Z",
     "start_time": "2023-06-25T07:28:13.332206Z"
    }
   },
   "outputs": [
    {
     "data": {
      "text/plain": [
       "the      476757\n",
       "to       249921\n",
       "of       205526\n",
       "a        196017\n",
       "in       183013\n",
       "and      180094\n",
       "on       110289\n",
       "said      97861\n",
       "that      86189\n",
       "for       81549\n",
       "with      55359\n",
       "is        55216\n",
       "he        52952\n",
       "as        47791\n",
       "by        47674\n",
       "was       47439\n",
       "trump     46780\n",
       "it        46289\n",
       "has       45901\n",
       "us        44646\n",
       "dtype: int64"
      ]
     },
     "execution_count": 115,
     "metadata": {},
     "output_type": "execute_result"
    }
   ],
   "source": [
    "#Word frequency for true dataset\n",
    "freq = pd.Series(' '.join(true['text']).split()).value_counts()[:20] # for top 50\n",
    "freq"
   ]
  },
  {
   "cell_type": "code",
   "execution_count": 116,
   "id": "cf3de8e1",
   "metadata": {
    "ExecuteTime": {
     "end_time": "2023-06-25T07:29:00.244934Z",
     "start_time": "2023-06-25T07:28:22.961587Z"
    }
   },
   "outputs": [],
   "source": [
    "#removing stopwords\n",
    "stop = stopwords.words('english')\n",
    "true['text'] = true['text'].apply(lambda x: \" \".join(x for x in x.split() if x not in stop))"
   ]
  },
  {
   "cell_type": "code",
   "execution_count": 120,
   "id": "f148552a",
   "metadata": {
    "ExecuteTime": {
     "end_time": "2023-06-25T07:31:00.497050Z",
     "start_time": "2023-06-25T07:30:18.057109Z"
    }
   },
   "outputs": [
    {
     "data": {
      "text/html": [
       "<div>\n",
       "<style scoped>\n",
       "    .dataframe tbody tr th:only-of-type {\n",
       "        vertical-align: middle;\n",
       "    }\n",
       "\n",
       "    .dataframe tbody tr th {\n",
       "        vertical-align: top;\n",
       "    }\n",
       "\n",
       "    .dataframe thead th {\n",
       "        text-align: right;\n",
       "    }\n",
       "</style>\n",
       "<table border=\"1\" class=\"dataframe\">\n",
       "  <thead>\n",
       "    <tr style=\"text-align: right;\">\n",
       "      <th></th>\n",
       "      <th>text</th>\n",
       "      <th>Month</th>\n",
       "      <th>Year</th>\n",
       "      <th>num_words</th>\n",
       "    </tr>\n",
       "  </thead>\n",
       "  <tbody>\n",
       "    <tr>\n",
       "      <th>0</th>\n",
       "      <td>politicsnews us budget fight loom republicans ...</td>\n",
       "      <td>12</td>\n",
       "      <td>2017</td>\n",
       "      <td>451</td>\n",
       "    </tr>\n",
       "    <tr>\n",
       "      <th>1</th>\n",
       "      <td>politicsnews us military accept transgender re...</td>\n",
       "      <td>12</td>\n",
       "      <td>2017</td>\n",
       "      <td>384</td>\n",
       "    </tr>\n",
       "    <tr>\n",
       "      <th>2</th>\n",
       "      <td>politicsnews senior us republican senator let ...</td>\n",
       "      <td>12</td>\n",
       "      <td>2017</td>\n",
       "      <td>271</td>\n",
       "    </tr>\n",
       "    <tr>\n",
       "      <th>3</th>\n",
       "      <td>politicsnews fbi russia probe help australian ...</td>\n",
       "      <td>12</td>\n",
       "      <td>2017</td>\n",
       "      <td>236</td>\n",
       "    </tr>\n",
       "    <tr>\n",
       "      <th>4</th>\n",
       "      <td>politicsnews trump want postal service charge ...</td>\n",
       "      <td>12</td>\n",
       "      <td>2017</td>\n",
       "      <td>495</td>\n",
       "    </tr>\n",
       "  </tbody>\n",
       "</table>\n",
       "</div>"
      ],
      "text/plain": [
       "                                                text  Month  Year  num_words\n",
       "0  politicsnews us budget fight loom republicans ...     12  2017        451\n",
       "1  politicsnews us military accept transgender re...     12  2017        384\n",
       "2  politicsnews senior us republican senator let ...     12  2017        271\n",
       "3  politicsnews fbi russia probe help australian ...     12  2017        236\n",
       "4  politicsnews trump want postal service charge ...     12  2017        495"
      ]
     },
     "execution_count": 120,
     "metadata": {},
     "output_type": "execute_result"
    }
   ],
   "source": [
    "#num of Words \n",
    "true['num_words']=true['text'].apply(lambda x:len(nltk.word_tokenize(x)))\n",
    "true.head()"
   ]
  },
  {
   "cell_type": "code",
   "execution_count": 131,
   "id": "4d90dc62",
   "metadata": {
    "ExecuteTime": {
     "end_time": "2023-06-25T07:39:20.558610Z",
     "start_time": "2023-06-25T07:39:20.552611Z"
    }
   },
   "outputs": [],
   "source": [
    "#num of sentence\n",
    "#true['num_sent']=true['text'].apply(lambda x:len(nltk.sent_tokenize(x)))\n",
    "del true['num_sent']"
   ]
  },
  {
   "cell_type": "code",
   "execution_count": 130,
   "id": "8bab642e",
   "metadata": {
    "ExecuteTime": {
     "end_time": "2023-06-25T07:39:18.566260Z",
     "start_time": "2023-06-25T07:39:15.568693Z"
    }
   },
   "outputs": [
    {
     "data": {
      "text/plain": [
       "say           116735\n",
       "trump          47560\n",
       "us             44646\n",
       "state          35736\n",
       "would          31380\n",
       "reuters        28071\n",
       "president      25720\n",
       "house          18688\n",
       "government     18111\n",
       "new            17495\n",
       "republican     15834\n",
       "also           15764\n",
       "unite          15629\n",
       "tell           15584\n",
       "people         15085\n",
       "make           14555\n",
       "party          14094\n",
       "could          13757\n",
       "take           13622\n",
       "last           12809\n",
       "dtype: int64"
      ]
     },
     "execution_count": 130,
     "metadata": {},
     "output_type": "execute_result"
    }
   ],
   "source": [
    "#word frequency after removal of stopwords in fake dataset\n",
    "freq_tr = pd.Series(' '.join(true['text']).split()).value_counts()[:20] # for top 20\n",
    "freq_tr"
   ]
  },
  {
   "cell_type": "code",
   "execution_count": 118,
   "id": "bcc78a3e",
   "metadata": {
    "ExecuteTime": {
     "end_time": "2023-06-25T07:30:07.459198Z",
     "start_time": "2023-06-25T07:29:15.808189Z"
    }
   },
   "outputs": [],
   "source": [
    "#Lets Perform Lamatization\n",
    "true['text'] = true['text'].apply(lemmatize_words)"
   ]
  },
  {
   "cell_type": "code",
   "execution_count": 119,
   "id": "0f3c2e39",
   "metadata": {
    "ExecuteTime": {
     "end_time": "2023-06-25T07:30:12.607385Z",
     "start_time": "2023-06-25T07:30:09.981003Z"
    }
   },
   "outputs": [
    {
     "data": {
      "text/plain": [
       "say         116735\n",
       "trump        47560\n",
       "us           44646\n",
       "state        35736\n",
       "would        31380\n",
       "             ...  \n",
       "get           6702\n",
       "many          6699\n",
       "congress      6671\n",
       "help          6613\n",
       "office        6537\n",
       "Length: 100, dtype: int64"
      ]
     },
     "execution_count": 119,
     "metadata": {},
     "output_type": "execute_result"
    }
   ],
   "source": [
    "#word frequency after lamatization in true dataset\n",
    "freq_tr = pd.Series(' '.join(true['text']).split()).value_counts()[:100] # for top 100\n",
    "freq_tr"
   ]
  },
  {
   "cell_type": "code",
   "execution_count": 85,
   "id": "873d5645",
   "metadata": {
    "ExecuteTime": {
     "end_time": "2023-06-24T16:43:51.099946Z",
     "start_time": "2023-06-24T16:43:51.080958Z"
    }
   },
   "outputs": [
    {
     "data": {
      "text/plain": [
       "0        budget fight looms flip fiscal script washingt...\n",
       "1        military accept transgender recruits monday pe...\n",
       "2        senior senator let mr mueller job washington r...\n",
       "3        fbi russia probe helped australian diplomat ti...\n",
       "4        wants postal service charge much amazon shipme...\n",
       "                               ...                        \n",
       "21411    fully committed nato backs approach afghanista...\n",
       "21412    lexisnexis withdrew products chinese market lo...\n",
       "21413    minsk cultural hub becomes authorities minsk r...\n",
       "21414    vatican upbeat possibility pope francis visiti...\n",
       "21415    indonesia buy billion worth russian jets jakar...\n",
       "Name: text, Length: 21210, dtype: object"
      ]
     },
     "execution_count": 85,
     "metadata": {},
     "output_type": "execute_result"
    }
   ],
   "source": [
    "true['text']"
   ]
  },
  {
   "cell_type": "code",
   "execution_count": 122,
   "id": "975e4638",
   "metadata": {
    "ExecuteTime": {
     "end_time": "2023-06-25T07:31:21.787205Z",
     "start_time": "2023-06-25T07:31:18.440269Z"
    }
   },
   "outputs": [
    {
     "data": {
      "text/plain": [
       "<Axes: xlabel='num_words', ylabel='Count'>"
      ]
     },
     "execution_count": 122,
     "metadata": {},
     "output_type": "execute_result"
    },
    {
     "data": {
      "image/png": "[encoded data removed]",
      "text/plain": [
       "<Figure size 1200x600 with 1 Axes>"
      ]
     },
     "metadata": {},
     "output_type": "display_data"
    }
   ],
   "source": [
    "plt.figure(figsize=(12,6))\n",
    "sns.histplot(fake['num_words'])\n",
    "sns.histplot(true['num_words'],color='red')"
   ]
  },
  {
   "cell_type": "markdown",
   "id": "384ece64",
   "metadata": {},
   "source": [
    "# We can see that in true news we have more words in comparision to fake news"
   ]
  },
  {
   "cell_type": "markdown",
   "id": "3e7df777",
   "metadata": {
    "ExecuteTime": {
     "end_time": "2023-06-24T16:44:35.647834Z",
     "start_time": "2023-06-24T16:44:35.631844Z"
    }
   },
   "source": [
    "## Creating a dataframe 'data' \n",
    "##### Adding an Target vaeriable into our data frame assigning 1 to true and 0 to fake"
   ]
  },
  {
   "cell_type": "code",
   "execution_count": 123,
   "id": "23132b6f",
   "metadata": {
    "ExecuteTime": {
     "end_time": "2023-06-25T07:34:03.690173Z",
     "start_time": "2023-06-25T07:34:03.670186Z"
    }
   },
   "outputs": [],
   "source": [
    "#add column \n",
    "true['target'] = 1\n",
    "fake['target'] = 0 "
   ]
  },
  {
   "cell_type": "code",
   "execution_count": 132,
   "id": "bd2b7f13",
   "metadata": {
    "ExecuteTime": {
     "end_time": "2023-06-25T07:39:32.647302Z",
     "start_time": "2023-06-25T07:39:32.637306Z"
    }
   },
   "outputs": [],
   "source": [
    "data=pd.concat([true,fake],ignore_index=True,sort=False)"
   ]
  },
  {
   "cell_type": "code",
   "execution_count": 133,
   "id": "8ebb51f4",
   "metadata": {
    "ExecuteTime": {
     "end_time": "2023-06-25T07:39:35.989848Z",
     "start_time": "2023-06-25T07:39:35.962865Z"
    }
   },
   "outputs": [],
   "source": [
    "from sklearn.utils import shuffle\n",
    "data=shuffle(data)\n",
    "data=data.reset_index(drop=True)\n"
   ]
  },
  {
   "cell_type": "code",
   "execution_count": 134,
   "id": "aa9e82ae",
   "metadata": {
    "ExecuteTime": {
     "end_time": "2023-06-25T07:39:37.912189Z",
     "start_time": "2023-06-25T07:39:37.882203Z"
    }
   },
   "outputs": [
    {
     "data": {
      "text/html": [
       "<div>\n",
       "<style scoped>\n",
       "    .dataframe tbody tr th:only-of-type {\n",
       "        vertical-align: middle;\n",
       "    }\n",
       "\n",
       "    .dataframe tbody tr th {\n",
       "        vertical-align: top;\n",
       "    }\n",
       "\n",
       "    .dataframe thead th {\n",
       "        text-align: right;\n",
       "    }\n",
       "</style>\n",
       "<table border=\"1\" class=\"dataframe\">\n",
       "  <thead>\n",
       "    <tr style=\"text-align: right;\">\n",
       "      <th></th>\n",
       "      <th>text</th>\n",
       "      <th>Month</th>\n",
       "      <th>Year</th>\n",
       "      <th>num_words</th>\n",
       "      <th>target</th>\n",
       "    </tr>\n",
       "  </thead>\n",
       "  <tbody>\n",
       "    <tr>\n",
       "      <th>0</th>\n",
       "      <td>worldnews watch fireworks naacp president frea...</td>\n",
       "      <td>2.0</td>\n",
       "      <td>2017.0</td>\n",
       "      <td>160</td>\n",
       "      <td>0</td>\n",
       "    </tr>\n",
       "    <tr>\n",
       "      <th>1</th>\n",
       "      <td>politicsnews trump accuse us spy agencies nazi...</td>\n",
       "      <td>1.0</td>\n",
       "      <td>2017.0</td>\n",
       "      <td>545</td>\n",
       "      <td>1</td>\n",
       "    </tr>\n",
       "    <tr>\n",
       "      <th>2</th>\n",
       "      <td>politicsnews clinton heavily favor win elector...</td>\n",
       "      <td>10.0</td>\n",
       "      <td>2016.0</td>\n",
       "      <td>337</td>\n",
       "      <td>1</td>\n",
       "    </tr>\n",
       "    <tr>\n",
       "      <th>3</th>\n",
       "      <td>politicsnews break crook sec state hillary kno...</td>\n",
       "      <td>10.0</td>\n",
       "      <td>2016.0</td>\n",
       "      <td>332</td>\n",
       "      <td>0</td>\n",
       "    </tr>\n",
       "    <tr>\n",
       "      <th>4</th>\n",
       "      <td>politicsnews bitter hillary claim \u0018beat\u0019 trump...</td>\n",
       "      <td>5.0</td>\n",
       "      <td>2017.0</td>\n",
       "      <td>77</td>\n",
       "      <td>0</td>\n",
       "    </tr>\n",
       "  </tbody>\n",
       "</table>\n",
       "</div>"
      ],
      "text/plain": [
       "                                                text  Month    Year  \\\n",
       "0  worldnews watch fireworks naacp president frea...    2.0  2017.0   \n",
       "1  politicsnews trump accuse us spy agencies nazi...    1.0  2017.0   \n",
       "2  politicsnews clinton heavily favor win elector...   10.0  2016.0   \n",
       "3  politicsnews break crook sec state hillary kno...   10.0  2016.0   \n",
       "4  politicsnews bitter hillary claim \u0018beat\u0019 trump...    5.0  2017.0   \n",
       "\n",
       "   num_words  target  \n",
       "0        160       0  \n",
       "1        545       1  \n",
       "2        337       1  \n",
       "3        332       0  \n",
       "4         77       0  "
      ]
     },
     "execution_count": 134,
     "metadata": {},
     "output_type": "execute_result"
    }
   ],
   "source": [
    "data.head()"
   ]
  },
  {
   "cell_type": "markdown",
   "id": "3a72bc9e",
   "metadata": {
    "ExecuteTime": {
     "end_time": "2023-06-19T17:17:35.811243Z",
     "start_time": "2023-06-19T17:17:35.799247Z"
    }
   },
   "source": [
    "# Data visualization"
   ]
  },
  {
   "cell_type": "code",
   "execution_count": null,
   "id": "9cd7a268",
   "metadata": {
    "ExecuteTime": {
     "end_time": "2023-06-24T16:47:43.634000Z",
     "start_time": "2023-06-24T16:47:43.608017Z"
    }
   },
   "outputs": [],
   "source": []
  },
  {
   "cell_type": "code",
   "execution_count": 92,
   "id": "e5753f2f",
   "metadata": {
    "ExecuteTime": {
     "end_time": "2023-06-24T16:47:54.232584Z",
     "start_time": "2023-06-24T16:47:53.639614Z"
    }
   },
   "outputs": [
    {
     "data": {
      "image/png": "[encoded data removed]",
      "text/plain": [
       "<Figure size 1900x500 with 2 Axes>"
      ]
     },
     "metadata": {},
     "output_type": "display_data"
    }
   ],
   "source": [
    "fig, ax = plt.subplots(1,2, figsize=(19, 5))\n",
    "g1 = sns.countplot(data =data,x ='target',ax = ax[0]);\n",
    "g1.set_title(\"Count of true and fake data\")\n",
    "g1.set_ylabel(\"Count\")\n",
    "g1.set_xlabel(\"Target\")\n",
    "g2 = plt.pie(data[\"target\"].value_counts().values,explode=[0,0],labels=data.target.value_counts().index, autopct='%1.1f%%',colors=['SkyBlue','PeachPuff'])\n",
    "plt.show()"
   ]
  },
  {
   "cell_type": "code",
   "execution_count": 135,
   "id": "7bb56725",
   "metadata": {
    "ExecuteTime": {
     "end_time": "2023-06-25T07:39:55.789800Z",
     "start_time": "2023-06-25T07:39:55.105094Z"
    }
   },
   "outputs": [
    {
     "data": {
      "text/plain": [
       "<Axes: >"
      ]
     },
     "execution_count": 135,
     "metadata": {},
     "output_type": "execute_result"
    },
    {
     "data": {
      "image/png": "[encoded data removed]",
      "text/plain": [
       "<Figure size 640x480 with 2 Axes>"
      ]
     },
     "metadata": {},
     "output_type": "display_data"
    }
   ],
   "source": [
    "sns.heatmap(data.corr(),annot=True)"
   ]
  },
  {
   "cell_type": "markdown",
   "id": "167038e2",
   "metadata": {
    "ExecuteTime": {
     "end_time": "2023-06-19T17:23:55.579461Z",
     "start_time": "2023-06-19T17:23:55.288694Z"
    }
   },
   "source": [
    "## But before moving towards model building techniques lets see if out target variable is effected by the sentiments of the text or not , this might be an important factor lets see ..."
   ]
  },
  {
   "cell_type": "code",
   "execution_count": 136,
   "id": "a6c1dede",
   "metadata": {
    "ExecuteTime": {
     "end_time": "2023-06-25T07:41:46.391752Z",
     "start_time": "2023-06-25T07:41:46.323793Z"
    }
   },
   "outputs": [],
   "source": [
    "from nltk.sentiment import SentimentIntensityAnalyzer\n",
    "sia= SentimentIntensityAnalyzer()"
   ]
  },
  {
   "cell_type": "code",
   "execution_count": 139,
   "id": "9aa44492",
   "metadata": {
    "ExecuteTime": {
     "end_time": "2023-06-25T07:42:23.312954Z",
     "start_time": "2023-06-25T07:42:23.305957Z"
    }
   },
   "outputs": [],
   "source": [
    "check=data.text[0]"
   ]
  },
  {
   "cell_type": "code",
   "execution_count": 140,
   "id": "14289e6f",
   "metadata": {
    "ExecuteTime": {
     "end_time": "2023-06-25T07:42:26.760974Z",
     "start_time": "2023-06-25T07:42:26.739988Z"
    }
   },
   "outputs": [
    {
     "data": {
      "text/plain": [
       "{'neg': 0.106, 'neu': 0.746, 'pos': 0.148, 'compound': 0.7918}"
      ]
     },
     "execution_count": 140,
     "metadata": {},
     "output_type": "execute_result"
    }
   ],
   "source": [
    "sia.polarity_scores(check)"
   ]
  },
  {
   "cell_type": "markdown",
   "id": "fd7687d7",
   "metadata": {},
   "source": [
    "# Although the text is fake but we are getting possitive polarity for sentimental analysis soo we can say its of no use "
   ]
  },
  {
   "cell_type": "markdown",
   "id": "ecddb64e",
   "metadata": {
    "ExecuteTime": {
     "end_time": "2023-06-19T17:57:31.634688Z",
     "start_time": "2023-06-19T17:57:21.075577Z"
    }
   },
   "source": [
    "# Model Building \n",
    "\n",
    "## Using TFIDF MAX FEATURES = 1000"
   ]
  },
  {
   "cell_type": "code",
   "execution_count": 141,
   "id": "2ac2eb2f",
   "metadata": {
    "ExecuteTime": {
     "end_time": "2023-06-25T07:46:02.401126Z",
     "start_time": "2023-06-25T07:46:02.366147Z"
    }
   },
   "outputs": [
    {
     "data": {
      "text/html": [
       "<div>\n",
       "<style scoped>\n",
       "    .dataframe tbody tr th:only-of-type {\n",
       "        vertical-align: middle;\n",
       "    }\n",
       "\n",
       "    .dataframe tbody tr th {\n",
       "        vertical-align: top;\n",
       "    }\n",
       "\n",
       "    .dataframe thead th {\n",
       "        text-align: right;\n",
       "    }\n",
       "</style>\n",
       "<table border=\"1\" class=\"dataframe\">\n",
       "  <thead>\n",
       "    <tr style=\"text-align: right;\">\n",
       "      <th></th>\n",
       "      <th>text</th>\n",
       "      <th>Month</th>\n",
       "      <th>Year</th>\n",
       "      <th>num_words</th>\n",
       "      <th>target</th>\n",
       "    </tr>\n",
       "  </thead>\n",
       "  <tbody>\n",
       "    <tr>\n",
       "      <th>0</th>\n",
       "      <td>worldnews watch fireworks naacp president frea...</td>\n",
       "      <td>2.0</td>\n",
       "      <td>2017.0</td>\n",
       "      <td>160</td>\n",
       "      <td>0</td>\n",
       "    </tr>\n",
       "    <tr>\n",
       "      <th>1</th>\n",
       "      <td>politicsnews trump accuse us spy agencies nazi...</td>\n",
       "      <td>1.0</td>\n",
       "      <td>2017.0</td>\n",
       "      <td>545</td>\n",
       "      <td>1</td>\n",
       "    </tr>\n",
       "    <tr>\n",
       "      <th>2</th>\n",
       "      <td>politicsnews clinton heavily favor win elector...</td>\n",
       "      <td>10.0</td>\n",
       "      <td>2016.0</td>\n",
       "      <td>337</td>\n",
       "      <td>1</td>\n",
       "    </tr>\n",
       "    <tr>\n",
       "      <th>3</th>\n",
       "      <td>politicsnews break crook sec state hillary kno...</td>\n",
       "      <td>10.0</td>\n",
       "      <td>2016.0</td>\n",
       "      <td>332</td>\n",
       "      <td>0</td>\n",
       "    </tr>\n",
       "    <tr>\n",
       "      <th>4</th>\n",
       "      <td>politicsnews bitter hillary claim \u0018beat\u0019 trump...</td>\n",
       "      <td>5.0</td>\n",
       "      <td>2017.0</td>\n",
       "      <td>77</td>\n",
       "      <td>0</td>\n",
       "    </tr>\n",
       "  </tbody>\n",
       "</table>\n",
       "</div>"
      ],
      "text/plain": [
       "                                                text  Month    Year  \\\n",
       "0  worldnews watch fireworks naacp president frea...    2.0  2017.0   \n",
       "1  politicsnews trump accuse us spy agencies nazi...    1.0  2017.0   \n",
       "2  politicsnews clinton heavily favor win elector...   10.0  2016.0   \n",
       "3  politicsnews break crook sec state hillary kno...   10.0  2016.0   \n",
       "4  politicsnews bitter hillary claim \u0018beat\u0019 trump...    5.0  2017.0   \n",
       "\n",
       "   num_words  target  \n",
       "0        160       0  \n",
       "1        545       1  \n",
       "2        337       1  \n",
       "3        332       0  \n",
       "4         77       0  "
      ]
     },
     "execution_count": 141,
     "metadata": {},
     "output_type": "execute_result"
    }
   ],
   "source": [
    "data.head()"
   ]
  },
  {
   "cell_type": "code",
   "execution_count": 152,
   "id": "2619467b",
   "metadata": {
    "ExecuteTime": {
     "end_time": "2023-06-25T08:02:06.190876Z",
     "start_time": "2023-06-25T08:01:07.487011Z"
    }
   },
   "outputs": [],
   "source": [
    "\n",
    "from sklearn.feature_extraction.text import TfidfVectorizer\n",
    "vectorizer = TfidfVectorizer(stop_words='english', max_features= 1000, max_df = 0.5, smooth_idf=True) #keep top 1000 words\n",
    "doc_vec = vectorizer.fit_transform(data[\"text\"])\n",
    "names_features = vectorizer.get_feature_names_out()\n",
    "dense = doc_vec.todense()\n",
    "denselist = dense.tolist()\n",
    "x= pd.DataFrame(denselist, columns = names_features)"
   ]
  },
  {
   "cell_type": "code",
   "execution_count": 154,
   "id": "0bdaa534",
   "metadata": {
    "ExecuteTime": {
     "end_time": "2023-06-25T08:02:31.229522Z",
     "start_time": "2023-06-25T08:02:31.217529Z"
    }
   },
   "outputs": [],
   "source": [
    "y=data['target']"
   ]
  },
  {
   "cell_type": "code",
   "execution_count": 156,
   "id": "5085026d",
   "metadata": {
    "ExecuteTime": {
     "end_time": "2023-06-25T08:04:14.101922Z",
     "start_time": "2023-06-25T08:04:13.530761Z"
    }
   },
   "outputs": [],
   "source": [
    "from sklearn.model_selection import train_test_split\n",
    "x_train,x_test,y_train,y_test=train_test_split(x,y,test_size=0.2,random_state=2)"
   ]
  },
  {
   "cell_type": "code",
   "execution_count": 158,
   "id": "d1502263",
   "metadata": {
    "ExecuteTime": {
     "end_time": "2023-06-25T08:05:54.613278Z",
     "start_time": "2023-06-25T08:05:54.604283Z"
    }
   },
   "outputs": [],
   "source": [
    "from sklearn.naive_bayes import GaussianNB,MultinomialNB,BernoulliNB\n",
    "from sklearn.metrics import accuracy_score,confusion_matrix,precision_score"
   ]
  },
  {
   "cell_type": "code",
   "execution_count": 159,
   "id": "1163cba0",
   "metadata": {
    "ExecuteTime": {
     "end_time": "2023-06-25T08:06:27.712594Z",
     "start_time": "2023-06-25T08:06:27.690606Z"
    }
   },
   "outputs": [],
   "source": [
    "gnb=GaussianNB()\n",
    "mnb=MultinomialNB()\n",
    "bnb=BernoulliNB()"
   ]
  },
  {
   "cell_type": "code",
   "execution_count": 160,
   "id": "79c3f7bc",
   "metadata": {
    "ExecuteTime": {
     "end_time": "2023-06-25T08:08:52.489662Z",
     "start_time": "2023-06-25T08:08:49.674812Z"
    }
   },
   "outputs": [
    {
     "name": "stdout",
     "output_type": "stream",
     "text": [
      "0.9090400537032893\n",
      "[[4236  402]\n",
      " [ 411 3889]]\n",
      "0.9063155441622\n"
     ]
    }
   ],
   "source": [
    "gnb.fit(x_train,y_train)\n",
    "y_pred1=gnb.predict(x_test)\n",
    "print(accuracy_score(y_test,y_pred1))\n",
    "print(confusion_matrix(y_test,y_pred1))\n",
    "print(precision_score(y_test,y_pred1))"
   ]
  },
  {
   "cell_type": "code",
   "execution_count": 162,
   "id": "f1762dda",
   "metadata": {
    "ExecuteTime": {
     "end_time": "2023-06-25T08:09:47.992337Z",
     "start_time": "2023-06-25T08:09:47.482098Z"
    }
   },
   "outputs": [
    {
     "name": "stdout",
     "output_type": "stream",
     "text": [
      "0.9174311926605505\n",
      "[[4304  334]\n",
      " [ 404 3896]]\n",
      "0.9210401891252955\n"
     ]
    }
   ],
   "source": [
    "mnb.fit(x_train,y_train)\n",
    "y_pred1=mnb.predict(x_test)\n",
    "print(accuracy_score(y_test,y_pred1))\n",
    "print(confusion_matrix(y_test,y_pred1))\n",
    "print(precision_score(y_test,y_pred1))"
   ]
  },
  {
   "cell_type": "code",
   "execution_count": 163,
   "id": "94d2c1eb",
   "metadata": {
    "ExecuteTime": {
     "end_time": "2023-06-25T08:10:57.082941Z",
     "start_time": "2023-06-25T08:10:53.940878Z"
    }
   },
   "outputs": [
    {
     "name": "stdout",
     "output_type": "stream",
     "text": [
      "0.9618482882076527\n",
      "[[4462  176]\n",
      " [ 165 4135]]\n",
      "0.9591742055207608\n"
     ]
    }
   ],
   "source": [
    "bnb.fit(x_train,y_train)\n",
    "y_pred1=bnb.predict(x_test)\n",
    "print(accuracy_score(y_test,y_pred1))\n",
    "print(confusion_matrix(y_test,y_pred1))\n",
    "print(precision_score(y_test,y_pred1))"
   ]
  },
  {
   "cell_type": "code",
   "execution_count": null,
   "id": "25b3ee25",
   "metadata": {
    "ExecuteTime": {
     "end_time": "2023-06-25T08:49:43.664681Z",
     "start_time": "2023-06-25T08:49:43.664681Z"
    }
   },
   "outputs": [],
   "source": [
    "from sklearn.linear_model import LogisticRegression\n",
    "from sklearn.svm import SVC\n",
    "from sklearn.naive_bayes import MultinomialNB\n",
    "from sklearn.tree import DecisionTreeClassifier\n",
    "from sklearn.neighbors import KNeighborsClassifier\n",
    "from sklearn.ensemble import RandomForestClassifier\n",
    "from sklearn.ensemble import AdaBoostClassifier\n",
    "from sklearn.ensemble import GradientBoostingClassifier\n"
   ]
  },
  {
   "cell_type": "code",
   "execution_count": 175,
   "id": "bce459c5",
   "metadata": {
    "ExecuteTime": {
     "end_time": "2023-06-25T08:49:49.508319Z",
     "start_time": "2023-06-25T08:49:49.496327Z"
    }
   },
   "outputs": [],
   "source": [
    "svc = SVC(kernel='sigmoid', gamma=1.0)\n",
    "knc = KNeighborsClassifier()\n",
    "mnb = MultinomialNB()\n",
    "dtc = DecisionTreeClassifier(max_depth=5)\n",
    "lrc = LogisticRegression(solver='liblinear', penalty='l1')\n",
    "rfc = RandomForestClassifier(n_estimators=50, random_state=2)\n",
    "abc = AdaBoostClassifier(n_estimators=50, random_state=2)\n",
    "gbdt = GradientBoostingClassifier(n_estimators=50,random_state=2)\n"
   ]
  },
  {
   "cell_type": "code",
   "execution_count": 176,
   "id": "d0381349",
   "metadata": {
    "ExecuteTime": {
     "end_time": "2023-06-25T08:49:52.333177Z",
     "start_time": "2023-06-25T08:49:52.322181Z"
    }
   },
   "outputs": [],
   "source": [
    "clfs = {\n",
    "    'SVC' : svc,\n",
    "    'KN' : knc, \n",
    "    'NB': bnb, \n",
    "    'DT': dtc, \n",
    "    'LR': lrc, \n",
    "    'RF': rfc, \n",
    "    'AdaBoost': abc, \n",
    "    'GBDT':gbdt,\n",
    "    \n",
    "}"
   ]
  },
  {
   "cell_type": "code",
   "execution_count": 169,
   "id": "e2284dc8",
   "metadata": {
    "ExecuteTime": {
     "end_time": "2023-06-25T08:15:34.087331Z",
     "start_time": "2023-06-25T08:15:34.070342Z"
    }
   },
   "outputs": [],
   "source": [
    "def train_classifier(clf,X_train,y_train,X_test,y_test):\n",
    "    clf.fit(X_train,y_train)\n",
    "    y_pred = clf.predict(X_test)\n",
    "    accuracy = accuracy_score(y_test,y_pred)\n",
    "    precision = precision_score(y_test,y_pred)\n",
    "    \n",
    "    return accuracy,precision"
   ]
  },
  {
   "cell_type": "code",
   "execution_count": 171,
   "id": "3067d6bc",
   "metadata": {
    "ExecuteTime": {
     "end_time": "2023-06-25T08:19:43.593792Z",
     "start_time": "2023-06-25T08:15:54.820712Z"
    }
   },
   "outputs": [
    {
     "data": {
      "text/plain": [
       "(0.9855672409935109, 0.9839870039452309)"
      ]
     },
     "execution_count": 171,
     "metadata": {},
     "output_type": "execute_result"
    }
   ],
   "source": [
    "train_classifier(svc,x_train,y_train,x_test,y_test)"
   ]
  },
  {
   "cell_type": "code",
   "execution_count": 177,
   "id": "0f0c3a6b",
   "metadata": {
    "ExecuteTime": {
     "end_time": "2023-06-25T08:58:14.220339Z",
     "start_time": "2023-06-25T08:49:59.163920Z"
    }
   },
   "outputs": [
    {
     "name": "stdout",
     "output_type": "stream",
     "text": [
      "For  SVC\n",
      "Accuracy -  0.9855672409935109\n",
      "Precision -  0.9839870039452309\n",
      "For  KN\n",
      "Accuracy -  0.787983889013202\n",
      "Precision -  0.9017707985299032\n",
      "For  NB\n",
      "Accuracy -  0.9618482882076527\n",
      "Precision -  0.9591742055207608\n",
      "For  DT\n",
      "Accuracy -  0.9951890803311703\n",
      "Precision -  0.9921387283236994\n",
      "For  LR\n",
      "Accuracy -  0.9938464980980085\n",
      "Precision -  0.9934898860730063\n",
      "For  RF\n",
      "Accuracy -  0.9966435444170956\n",
      "Precision -  0.9951298701298701\n",
      "For  AdaBoost\n",
      "Accuracy -  0.9958603714477512\n",
      "Precision -  0.9937456567060459\n",
      "For  GBDT\n",
      "Accuracy -  0.9951890803311703\n",
      "Precision -  0.9921387283236994\n"
     ]
    }
   ],
   "source": [
    "accuracy_scores = []\n",
    "precision_scores = []\n",
    "\n",
    "for name,clf in clfs.items():\n",
    "    \n",
    "    current_accuracy,current_precision = train_classifier(clf, x_train,y_train,x_test,y_test)\n",
    "    \n",
    "    print(\"For \",name)\n",
    "    print(\"Accuracy - \",current_accuracy)\n",
    "    print(\"Precision - \",current_precision)\n",
    "    \n",
    "    accuracy_scores.append(current_accuracy)\n",
    "    precision_scores.append(current_precision)"
   ]
  },
  {
   "cell_type": "code",
   "execution_count": 181,
   "id": "1ad745bc",
   "metadata": {
    "ExecuteTime": {
     "end_time": "2023-06-25T09:02:24.314739Z",
     "start_time": "2023-06-25T09:02:24.296748Z"
    }
   },
   "outputs": [],
   "source": [
    "performance_df = pd.DataFrame({'Algorithm':clfs.keys(),'Accuracy':accuracy_scores,'Precision':precision_scores}).sort_values('Precision',ascending=False)"
   ]
  },
  {
   "cell_type": "code",
   "execution_count": 182,
   "id": "42be77b7",
   "metadata": {
    "ExecuteTime": {
     "end_time": "2023-06-25T09:02:28.024183Z",
     "start_time": "2023-06-25T09:02:28.004195Z"
    }
   },
   "outputs": [
    {
     "data": {
      "text/html": [
       "<div>\n",
       "<style scoped>\n",
       "    .dataframe tbody tr th:only-of-type {\n",
       "        vertical-align: middle;\n",
       "    }\n",
       "\n",
       "    .dataframe tbody tr th {\n",
       "        vertical-align: top;\n",
       "    }\n",
       "\n",
       "    .dataframe thead th {\n",
       "        text-align: right;\n",
       "    }\n",
       "</style>\n",
       "<table border=\"1\" class=\"dataframe\">\n",
       "  <thead>\n",
       "    <tr style=\"text-align: right;\">\n",
       "      <th></th>\n",
       "      <th>Algorithm</th>\n",
       "      <th>Accuracy</th>\n",
       "      <th>Precision</th>\n",
       "    </tr>\n",
       "  </thead>\n",
       "  <tbody>\n",
       "    <tr>\n",
       "      <th>5</th>\n",
       "      <td>RF</td>\n",
       "      <td>0.996644</td>\n",
       "      <td>0.995130</td>\n",
       "    </tr>\n",
       "    <tr>\n",
       "      <th>6</th>\n",
       "      <td>AdaBoost</td>\n",
       "      <td>0.995860</td>\n",
       "      <td>0.993746</td>\n",
       "    </tr>\n",
       "    <tr>\n",
       "      <th>4</th>\n",
       "      <td>LR</td>\n",
       "      <td>0.993846</td>\n",
       "      <td>0.993490</td>\n",
       "    </tr>\n",
       "    <tr>\n",
       "      <th>3</th>\n",
       "      <td>DT</td>\n",
       "      <td>0.995189</td>\n",
       "      <td>0.992139</td>\n",
       "    </tr>\n",
       "    <tr>\n",
       "      <th>7</th>\n",
       "      <td>GBDT</td>\n",
       "      <td>0.995189</td>\n",
       "      <td>0.992139</td>\n",
       "    </tr>\n",
       "    <tr>\n",
       "      <th>0</th>\n",
       "      <td>SVC</td>\n",
       "      <td>0.985567</td>\n",
       "      <td>0.983987</td>\n",
       "    </tr>\n",
       "    <tr>\n",
       "      <th>2</th>\n",
       "      <td>NB</td>\n",
       "      <td>0.961848</td>\n",
       "      <td>0.959174</td>\n",
       "    </tr>\n",
       "    <tr>\n",
       "      <th>1</th>\n",
       "      <td>KN</td>\n",
       "      <td>0.787984</td>\n",
       "      <td>0.901771</td>\n",
       "    </tr>\n",
       "  </tbody>\n",
       "</table>\n",
       "</div>"
      ],
      "text/plain": [
       "  Algorithm  Accuracy  Precision\n",
       "5        RF  0.996644   0.995130\n",
       "6  AdaBoost  0.995860   0.993746\n",
       "4        LR  0.993846   0.993490\n",
       "3        DT  0.995189   0.992139\n",
       "7      GBDT  0.995189   0.992139\n",
       "0       SVC  0.985567   0.983987\n",
       "2        NB  0.961848   0.959174\n",
       "1        KN  0.787984   0.901771"
      ]
     },
     "execution_count": 182,
     "metadata": {},
     "output_type": "execute_result"
    }
   ],
   "source": [
    "performance_df"
   ]
  },
  {
   "cell_type": "code",
   "execution_count": null,
   "id": "bfd31ab2",
   "metadata": {},
   "outputs": [],
   "source": []
  }
 ],
 "metadata": {
  "kernelspec": {
   "display_name": "Python 3 (ipykernel)",
   "language": "python",
   "name": "python3"
  },
  "language_info": {
   "codemirror_mode": {
    "name": "ipython",
    "version": 3
   },
   "file_extension": ".py",
   "mimetype": "text/x-python",
   "name": "python",
   "nbconvert_exporter": "python",
   "pygments_lexer": "ipython3",
   "version": "3.10.9"
  },
  "varInspector": {
   "cols": {
    "lenName": 16,
    "lenType": 16,
    "lenVar": 40
   },
   "kernels_config": {
    "python": {
     "delete_cmd_postfix": "",
     "delete_cmd_prefix": "del ",
     "library": "var_list.py",
     "varRefreshCmd": "print(var_dic_list())"
    },
    "r": {
     "delete_cmd_postfix": ") ",
     "delete_cmd_prefix": "rm(",
     "library": "var_list.r",
     "varRefreshCmd": "cat(var_dic_list()) "
    }
   },
   "types_to_exclude": [
    "module",
    "function",
    "builtin_function_or_method",
    "instance",
    "_Feature"
   ],
   "window_display": false
  }
 },
 "nbformat": 4,
 "nbformat_minor": 5
}
